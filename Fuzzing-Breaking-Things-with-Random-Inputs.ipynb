{
 "cells": [
  {
   "cell_type": "code",
   "execution_count": 12,
   "id": "dc652cc2",
   "metadata": {},
   "outputs": [],
   "source": [
    "import sys\n",
    "\n",
    "sys.path.append( '/home/sedley/Work/FuzzingBook/fuzzingbook/notebooks/' )\n",
    "\n",
    "import bookutils\n",
    "from typing import Dict, Tuple, Union, List, Any"
   ]
  },
  {
   "cell_type": "code",
   "execution_count": 13,
   "id": "fb062635",
   "metadata": {},
   "outputs": [],
   "source": [
    "from fuzzingbook.Fuzzer import Fuzzer\n",
    "from fuzzingbook.Fuzzer import Runner"
   ]
  },
  {
   "cell_type": "code",
   "execution_count": 14,
   "id": "826b52d5",
   "metadata": {},
   "outputs": [],
   "source": [
    "import Intro_Testing"
   ]
  },
  {
   "cell_type": "code",
   "execution_count": 15,
   "id": "f0ac279b",
   "metadata": {},
   "outputs": [],
   "source": [
    "import random"
   ]
  },
  {
   "cell_type": "code",
   "execution_count": 16,
   "id": "45c0c6bb",
   "metadata": {},
   "outputs": [],
   "source": [
    "def fuzzer(max_length: int = 100, char_start: int = 32, char_range: int = 32) -> str:\n",
    "    \"\"\"A string of up to `max_length` characters\n",
    "       in the range [`char_start`, `char_start` + `char_range`)\"\"\"\n",
    "    string_length = random.randrange(0, max_length + 1)\n",
    "    out = \"\"\n",
    "    for i in range(0, string_length):\n",
    "        out += chr(random.randrange(char_start, char_start + char_range))\n",
    "    return out"
   ]
  },
  {
   "cell_type": "code",
   "execution_count": 17,
   "id": "639e2e54",
   "metadata": {},
   "outputs": [
    {
     "data": {
      "text/plain": [
       "'!7#%\"*#0=)$;%6*;>638:*>80\"=</>(/*:-(2<4 !:5*6856&?\"\"11<7+%<%7,4.8,*+&,,$,.\"'"
      ]
     },
     "execution_count": 17,
     "metadata": {},
     "output_type": "execute_result"
    }
   ],
   "source": [
    "fuzzer()"
   ]
  },
  {
   "cell_type": "code",
   "execution_count": 18,
   "id": "d395479d",
   "metadata": {},
   "outputs": [
    {
     "data": {
      "text/plain": [
       "'s'"
      ]
     },
     "execution_count": 18,
     "metadata": {},
     "output_type": "execute_result"
    }
   ],
   "source": [
    "fuzzer(1, ord('a'), 26)"
   ]
  },
  {
   "cell_type": "code",
   "execution_count": 19,
   "id": "c4391cbd",
   "metadata": {},
   "outputs": [
    {
     "data": {
      "text/plain": [
       "'7185579035'"
      ]
     },
     "execution_count": 19,
     "metadata": {},
     "output_type": "execute_result"
    }
   ],
   "source": [
    "fuzzer(100, ord('0'), 10)"
   ]
  },
  {
   "cell_type": "code",
   "execution_count": 20,
   "id": "925e4b54",
   "metadata": {},
   "outputs": [
    {
     "name": "stdout",
     "output_type": "stream",
     "text": [
      "/tmp/tmppzqwqig8/input.txt\n"
     ]
    }
   ],
   "source": [
    "import os\n",
    "import tempfile\n",
    "\n",
    "basename = \"input.txt\"\n",
    "tempdir = tempfile.mkdtemp()\n",
    "FILE = os.path.join(tempdir, basename)\n",
    "print(FILE)"
   ]
  },
  {
   "cell_type": "code",
   "execution_count": 21,
   "id": "6dab7005",
   "metadata": {},
   "outputs": [],
   "source": [
    "data = fuzzer()\n",
    "with open(FILE, \"w\") as f:\n",
    "    f.write(data)"
   ]
  },
  {
   "cell_type": "code",
   "execution_count": 22,
   "id": "54a463e4",
   "metadata": {},
   "outputs": [
    {
     "name": "stdout",
     "output_type": "stream",
     "text": [
      " 7:,>((/$$-/->.;.=;(.%!:50#7*8=$&&=$9!%6(4=&69':'<3+0-3.24#7=!&60)2/+\";+<7+1<2!4$>92+$1\n"
     ]
    }
   ],
   "source": [
    "contents = open(FILE).read()\n",
    "print(contents)\n",
    "assert(contents == data)"
   ]
  },
  {
   "cell_type": "code",
   "execution_count": 23,
   "id": "d68497e3",
   "metadata": {},
   "outputs": [],
   "source": [
    "import subprocess\n",
    "\n",
    "program = \"bc\"\n",
    "with open(FILE, \"w\") as f:\n",
    "    f.write(\"2 + 2\\n\")\n",
    "result = subprocess.run([program, FILE],\n",
    "                        stdin=subprocess.DEVNULL,\n",
    "                        stdout=subprocess.PIPE,\n",
    "                        stderr=subprocess.PIPE,\n",
    "                        universal_newlines=True)  # Will be \"text\" in Python 3.7"
   ]
  },
  {
   "cell_type": "code",
   "execution_count": 24,
   "id": "328e902a",
   "metadata": {},
   "outputs": [
    {
     "data": {
      "text/plain": [
       "'4\\n'"
      ]
     },
     "execution_count": 24,
     "metadata": {},
     "output_type": "execute_result"
    }
   ],
   "source": [
    "result.stdout"
   ]
  },
  {
   "cell_type": "code",
   "execution_count": 25,
   "id": "bea7ceaf",
   "metadata": {},
   "outputs": [
    {
     "data": {
      "text/plain": [
       "0"
      ]
     },
     "execution_count": 25,
     "metadata": {},
     "output_type": "execute_result"
    }
   ],
   "source": [
    "result.returncode"
   ]
  },
  {
   "cell_type": "code",
   "execution_count": 26,
   "id": "23403397",
   "metadata": {},
   "outputs": [
    {
     "data": {
      "text/plain": [
       "''"
      ]
     },
     "execution_count": 26,
     "metadata": {},
     "output_type": "execute_result"
    }
   ],
   "source": [
    "result.stderr"
   ]
  },
  {
   "cell_type": "code",
   "execution_count": 27,
   "id": "c4b81fba",
   "metadata": {},
   "outputs": [],
   "source": [
    "trials = 100\n",
    "program = \"bc\"\n",
    "\n",
    "runs = []\n",
    "\n",
    "for i in range(trials):\n",
    "    data = fuzzer()\n",
    "    with open(FILE, \"w\") as f:\n",
    "        f.write(data)\n",
    "    result = subprocess.run([program, FILE],\n",
    "                            stdin=subprocess.DEVNULL,\n",
    "                            stdout=subprocess.PIPE,\n",
    "                            stderr=subprocess.PIPE,\n",
    "                            universal_newlines=True)\n",
    "    runs.append((data, result))"
   ]
  },
  {
   "cell_type": "code",
   "execution_count": 28,
   "id": "adb5579e",
   "metadata": {},
   "outputs": [
    {
     "data": {
      "text/plain": [
       "7"
      ]
     },
     "execution_count": 28,
     "metadata": {},
     "output_type": "execute_result"
    }
   ],
   "source": [
    "sum(1 for (data, result) in runs if result.stderr == \"\")"
   ]
  },
  {
   "cell_type": "code",
   "execution_count": 29,
   "id": "db581db4",
   "metadata": {},
   "outputs": [
    {
     "name": "stdout",
     "output_type": "stream",
     "text": [
      "'<(3%&5\\'\\'>#28($37\"0*80!#\\';1/ -6%=:80;!\\'% 3&$;*27%%\\'8&+$)0(?,-)>3=( #383\\'7'\n",
      "/tmp/tmppzqwqig8/input.txt 1: syntax error\n",
      "/tmp/tmppzqwqig8/input.txt 1: syntax error\n",
      "/tmp/tmppzqwqig8/input.txt 1: illegal character: '\n",
      "/tmp/tmppzqwqig8/input.txt 1: illegal character: '\n",
      "\n"
     ]
    }
   ],
   "source": [
    "errors = [(data, result) for (data, result) in runs if result.stderr != \"\"]\n",
    "(first_data, first_result) = errors[0]\n",
    "\n",
    "print(repr(first_data))\n",
    "print(first_result.stderr)"
   ]
  },
  {
   "cell_type": "code",
   "execution_count": 30,
   "id": "a07b4095",
   "metadata": {},
   "outputs": [
    {
     "data": {
      "text/plain": [
       "[]"
      ]
     },
     "execution_count": 30,
     "metadata": {},
     "output_type": "execute_result"
    }
   ],
   "source": [
    "[result.stderr for (data, result) in runs if\n",
    " result.stderr != \"\"\n",
    " and \"illegal character\" not in result.stderr\n",
    " and \"parse error\" not in result.stderr\n",
    " and \"syntax error\" not in result.stderr]"
   ]
  },
  {
   "cell_type": "code",
   "execution_count": 31,
   "id": "85ca705d",
   "metadata": {},
   "outputs": [
    {
     "data": {
      "text/plain": [
       "0"
      ]
     },
     "execution_count": 31,
     "metadata": {},
     "output_type": "execute_result"
    }
   ],
   "source": [
    "sum(1 for (data, result) in runs if result.returncode != 0)"
   ]
  },
  {
   "cell_type": "code",
   "execution_count": 32,
   "id": "7162cd60",
   "metadata": {},
   "outputs": [],
   "source": [
    "def crash_if_too_long(s):\n",
    "    buffer = \"Thursday\"\n",
    "    if len(s) > len(buffer):\n",
    "        raise ValueError"
   ]
  },
  {
   "cell_type": "code",
   "execution_count": 33,
   "id": "a2433602",
   "metadata": {},
   "outputs": [
    {
     "name": "stderr",
     "output_type": "stream",
     "text": [
      "Traceback (most recent call last):\n",
      "  File \"/tmp/ipykernel_11966/1500401095.py\", line 7, in <module>\n",
      "    crash_if_too_long(s)\n",
      "  File \"/tmp/ipykernel_11966/2784561514.py\", line 4, in crash_if_too_long\n",
      "    raise ValueError\n",
      "ValueError (expected)\n"
     ]
    }
   ],
   "source": [
    "from ExpectError import ExpectError\n",
    "\n",
    "trials = 100\n",
    "with ExpectError():\n",
    "    for i in range(trials):\n",
    "        s = fuzzer()\n",
    "        crash_if_too_long(s)"
   ]
  },
  {
   "cell_type": "code",
   "execution_count": 34,
   "id": "2de784aa",
   "metadata": {},
   "outputs": [],
   "source": [
    "def hang_if_no_space(s):\n",
    "    i = 0\n",
    "    while True:\n",
    "        if i < len(s):\n",
    "            if s[i] == ' ':\n",
    "                break\n",
    "        i += 1"
   ]
  },
  {
   "cell_type": "code",
   "execution_count": 35,
   "id": "ee704cf6",
   "metadata": {},
   "outputs": [
    {
     "name": "stderr",
     "output_type": "stream",
     "text": [
      "Traceback (most recent call last):\n",
      "  File \"/tmp/ipykernel_11966/3845093739.py\", line 7, in <module>\n",
      "    hang_if_no_space(s)\n",
      "  File \"/tmp/ipykernel_11966/3035466707.py\", line 4, in hang_if_no_space\n",
      "    if i < len(s):\n",
      "  File \"/home/sedley/Work/FuzzingBook/fuzzingbook/notebooks/Timeout.ipynb\", line 43, in timeout_handler\n",
      "    raise TimeoutError()\n",
      "TimeoutError (expected)\n"
     ]
    }
   ],
   "source": [
    "from ExpectError import ExpectTimeout\n",
    "\n",
    "trials = 100\n",
    "with ExpectTimeout(2):\n",
    "    for i in range(trials):\n",
    "        s = fuzzer()\n",
    "        hang_if_no_space(s)"
   ]
  },
  {
   "cell_type": "code",
   "execution_count": 36,
   "id": "7abfab1d",
   "metadata": {},
   "outputs": [],
   "source": [
    "def collapse_if_too_large(s):\n",
    "    if int(s) > 1000:\n",
    "        raise ValueError"
   ]
  },
  {
   "cell_type": "code",
   "execution_count": 37,
   "id": "40cea237",
   "metadata": {},
   "outputs": [
    {
     "name": "stdout",
     "output_type": "stream",
     "text": [
      "97531157058673604568813115\n"
     ]
    }
   ],
   "source": [
    "long_number = fuzzer(100, ord('0'), 10)\n",
    "print(long_number)"
   ]
  },
  {
   "cell_type": "code",
   "execution_count": 38,
   "id": "c9744456",
   "metadata": {},
   "outputs": [
    {
     "name": "stderr",
     "output_type": "stream",
     "text": [
      "Traceback (most recent call last):\n",
      "  File \"/tmp/ipykernel_11966/2775103647.py\", line 2, in <module>\n",
      "    collapse_if_too_large(long_number)\n",
      "  File \"/tmp/ipykernel_11966/1591744602.py\", line 3, in collapse_if_too_large\n",
      "    raise ValueError\n",
      "ValueError (expected)\n"
     ]
    }
   ],
   "source": [
    "with ExpectError():\n",
    "    collapse_if_too_large(long_number)"
   ]
  },
  {
   "cell_type": "code",
   "execution_count": 39,
   "id": "17d7f0a9",
   "metadata": {},
   "outputs": [],
   "source": [
    "with open(\"program.c\", \"w\") as f:\n",
    "    f.write(\"\"\"\n",
    "#include <stdlib.h>\n",
    "#include <string.h>\n",
    "\n",
    "int main(int argc, char** argv) {\n",
    "    /* Create an array with 100 bytes, initialized with 42 */\n",
    "    char *buf = malloc(100);\n",
    "    memset(buf, 42, 100);\n",
    "\n",
    "    /* Read the N-th element, with N being the first command-line argument */\n",
    "    int index = atoi(argv[1]);\n",
    "    char val = buf[index];\n",
    "\n",
    "    /* Clean up memory so we don't leak */\n",
    "    free(buf);\n",
    "    return val;\n",
    "}\n",
    "    \"\"\")"
   ]
  },
  {
   "cell_type": "code",
   "execution_count": 40,
   "id": "19264a26",
   "metadata": {},
   "outputs": [],
   "source": [
    "!clang -fsanitize=address -g -o program program.c"
   ]
  },
  {
   "cell_type": "code",
   "execution_count": 41,
   "id": "2e307919",
   "metadata": {},
   "outputs": [
    {
     "name": "stdout",
     "output_type": "stream",
     "text": [
      "42\r\n"
     ]
    }
   ],
   "source": [
    "!./program 99; echo $?"
   ]
  },
  {
   "cell_type": "code",
   "execution_count": 42,
   "id": "9d728b89",
   "metadata": {},
   "outputs": [
    {
     "name": "stdout",
     "output_type": "stream",
     "text": [
      "=================================================================\n",
      "\u001b[1m\u001b[31m==89049==ERROR: AddressSanitizer: heap-buffer-overflow on address 0x60b00000015e at pc 0x559de31eff4c bp 0x7ffea60cc7d0 sp 0x7ffea60cc7c8\n",
      "\u001b[1m\u001b[0m\u001b[1m\u001b[34mREAD of size 1 at 0x60b00000015e thread T0\u001b[1m\u001b[0m\n",
      "    #0 0x559de31eff4b in main /home/sedley/Work/FuzzingBook/program.c:12:16\n",
      "    #1 0x7f1921229d8f in __libc_start_call_main csu/../sysdeps/nptl/libc_start_call_main.h:58:16\n",
      "    #2 0x7f1921229e3f in __libc_start_main csu/../csu/libc-start.c:392:3\n",
      "    #3 0x559de3132304 in _start (/home/sedley/Work/FuzzingBook/program+0x1e304) (BuildId: 09a02a8b8f7226bc9f4ff66da0504fa49f4282df)\n",
      "\n",
      "\u001b[1m\u001b[32m0x60b00000015e is located 10 bytes to the right of 100-byte region [0x60b0000000f0,0x60b000000154)\n",
      "\u001b[1m\u001b[0m\u001b[1m\u001b[35mallocated by thread T0 here:\u001b[1m\u001b[0m\n",
      "    #0 0x559de31b514e in __interceptor_malloc (/home/sedley/Work/FuzzingBook/program+0xa114e) (BuildId: 09a02a8b8f7226bc9f4ff66da0504fa49f4282df)\n",
      "    #1 0x559de31efebf in main /home/sedley/Work/FuzzingBook/program.c:7:17\n",
      "    #2 0x7f1921229d8f in __libc_start_call_main csu/../sysdeps/nptl/libc_start_call_main.h:58:16\n",
      "\n",
      "SUMMARY: AddressSanitizer: heap-buffer-overflow /home/sedley/Work/FuzzingBook/program.c:12:16 in main\n",
      "Shadow bytes around the buggy address:\n",
      "  0x0c167fff7fd0: \u001b[1m\u001b[0m00\u001b[1m\u001b[0m \u001b[1m\u001b[0m00\u001b[1m\u001b[0m \u001b[1m\u001b[0m00\u001b[1m\u001b[0m \u001b[1m\u001b[0m00\u001b[1m\u001b[0m \u001b[1m\u001b[0m00\u001b[1m\u001b[0m \u001b[1m\u001b[0m00\u001b[1m\u001b[0m \u001b[1m\u001b[0m00\u001b[1m\u001b[0m \u001b[1m\u001b[0m00\u001b[1m\u001b[0m \u001b[1m\u001b[0m00\u001b[1m\u001b[0m \u001b[1m\u001b[0m00\u001b[1m\u001b[0m \u001b[1m\u001b[0m00\u001b[1m\u001b[0m \u001b[1m\u001b[0m00\u001b[1m\u001b[0m \u001b[1m\u001b[0m00\u001b[1m\u001b[0m \u001b[1m\u001b[0m00\u001b[1m\u001b[0m \u001b[1m\u001b[0m00\u001b[1m\u001b[0m \u001b[1m\u001b[0m00\u001b[1m\u001b[0m\n",
      "  0x0c167fff7fe0: \u001b[1m\u001b[0m00\u001b[1m\u001b[0m \u001b[1m\u001b[0m00\u001b[1m\u001b[0m \u001b[1m\u001b[0m00\u001b[1m\u001b[0m \u001b[1m\u001b[0m00\u001b[1m\u001b[0m \u001b[1m\u001b[0m00\u001b[1m\u001b[0m \u001b[1m\u001b[0m00\u001b[1m\u001b[0m \u001b[1m\u001b[0m00\u001b[1m\u001b[0m \u001b[1m\u001b[0m00\u001b[1m\u001b[0m \u001b[1m\u001b[0m00\u001b[1m\u001b[0m \u001b[1m\u001b[0m00\u001b[1m\u001b[0m \u001b[1m\u001b[0m00\u001b[1m\u001b[0m \u001b[1m\u001b[0m00\u001b[1m\u001b[0m \u001b[1m\u001b[0m00\u001b[1m\u001b[0m \u001b[1m\u001b[0m00\u001b[1m\u001b[0m \u001b[1m\u001b[0m00\u001b[1m\u001b[0m \u001b[1m\u001b[0m00\u001b[1m\u001b[0m\n",
      "  0x0c167fff7ff0: \u001b[1m\u001b[0m00\u001b[1m\u001b[0m \u001b[1m\u001b[0m00\u001b[1m\u001b[0m \u001b[1m\u001b[0m00\u001b[1m\u001b[0m \u001b[1m\u001b[0m00\u001b[1m\u001b[0m \u001b[1m\u001b[0m00\u001b[1m\u001b[0m \u001b[1m\u001b[0m00\u001b[1m\u001b[0m \u001b[1m\u001b[0m00\u001b[1m\u001b[0m \u001b[1m\u001b[0m00\u001b[1m\u001b[0m \u001b[1m\u001b[0m00\u001b[1m\u001b[0m \u001b[1m\u001b[0m00\u001b[1m\u001b[0m \u001b[1m\u001b[0m00\u001b[1m\u001b[0m \u001b[1m\u001b[0m00\u001b[1m\u001b[0m \u001b[1m\u001b[0m00\u001b[1m\u001b[0m \u001b[1m\u001b[0m00\u001b[1m\u001b[0m \u001b[1m\u001b[0m00\u001b[1m\u001b[0m \u001b[1m\u001b[0m00\u001b[1m\u001b[0m\n",
      "  0x0c167fff8000: \u001b[1m\u001b[31mfa\u001b[1m\u001b[0m \u001b[1m\u001b[31mfa\u001b[1m\u001b[0m \u001b[1m\u001b[31mfa\u001b[1m\u001b[0m \u001b[1m\u001b[31mfa\u001b[1m\u001b[0m \u001b[1m\u001b[31mfa\u001b[1m\u001b[0m \u001b[1m\u001b[31mfa\u001b[1m\u001b[0m \u001b[1m\u001b[31mfa\u001b[1m\u001b[0m \u001b[1m\u001b[31mfa\u001b[1m\u001b[0m \u001b[1m\u001b[35mfd\u001b[1m\u001b[0m \u001b[1m\u001b[35mfd\u001b[1m\u001b[0m \u001b[1m\u001b[35mfd\u001b[1m\u001b[0m \u001b[1m\u001b[35mfd\u001b[1m\u001b[0m \u001b[1m\u001b[35mfd\u001b[1m\u001b[0m \u001b[1m\u001b[35mfd\u001b[1m\u001b[0m \u001b[1m\u001b[35mfd\u001b[1m\u001b[0m \u001b[1m\u001b[35mfd\u001b[1m\u001b[0m\n",
      "  0x0c167fff8010: \u001b[1m\u001b[35mfd\u001b[1m\u001b[0m \u001b[1m\u001b[35mfd\u001b[1m\u001b[0m \u001b[1m\u001b[35mfd\u001b[1m\u001b[0m \u001b[1m\u001b[35mfd\u001b[1m\u001b[0m \u001b[1m\u001b[35mfd\u001b[1m\u001b[0m \u001b[1m\u001b[31mfa\u001b[1m\u001b[0m \u001b[1m\u001b[31mfa\u001b[1m\u001b[0m \u001b[1m\u001b[31mfa\u001b[1m\u001b[0m \u001b[1m\u001b[31mfa\u001b[1m\u001b[0m \u001b[1m\u001b[31mfa\u001b[1m\u001b[0m \u001b[1m\u001b[31mfa\u001b[1m\u001b[0m \u001b[1m\u001b[31mfa\u001b[1m\u001b[0m \u001b[1m\u001b[31mfa\u001b[1m\u001b[0m \u001b[1m\u001b[31mfa\u001b[1m\u001b[0m \u001b[1m\u001b[0m00\u001b[1m\u001b[0m \u001b[1m\u001b[0m00\u001b[1m\u001b[0m\n",
      "=>0x0c167fff8020: \u001b[1m\u001b[0m00\u001b[1m\u001b[0m \u001b[1m\u001b[0m00\u001b[1m\u001b[0m \u001b[1m\u001b[0m00\u001b[1m\u001b[0m \u001b[1m\u001b[0m00\u001b[1m\u001b[0m \u001b[1m\u001b[0m00\u001b[1m\u001b[0m \u001b[1m\u001b[0m00\u001b[1m\u001b[0m \u001b[1m\u001b[0m00\u001b[1m\u001b[0m \u001b[1m\u001b[0m00\u001b[1m\u001b[0m \u001b[1m\u001b[0m00\u001b[1m\u001b[0m \u001b[1m\u001b[0m00\u001b[1m\u001b[0m \u001b[1m\u001b[0m04\u001b[1m\u001b[0m[\u001b[1m\u001b[31mfa\u001b[1m\u001b[0m]\u001b[1m\u001b[31mfa\u001b[1m\u001b[0m \u001b[1m\u001b[31mfa\u001b[1m\u001b[0m \u001b[1m\u001b[31mfa\u001b[1m\u001b[0m \u001b[1m\u001b[31mfa\u001b[1m\u001b[0m\n",
      "  0x0c167fff8030: \u001b[1m\u001b[31mfa\u001b[1m\u001b[0m \u001b[1m\u001b[31mfa\u001b[1m\u001b[0m \u001b[1m\u001b[31mfa\u001b[1m\u001b[0m \u001b[1m\u001b[31mfa\u001b[1m\u001b[0m \u001b[1m\u001b[31mfa\u001b[1m\u001b[0m \u001b[1m\u001b[31mfa\u001b[1m\u001b[0m \u001b[1m\u001b[31mfa\u001b[1m\u001b[0m \u001b[1m\u001b[31mfa\u001b[1m\u001b[0m \u001b[1m\u001b[31mfa\u001b[1m\u001b[0m \u001b[1m\u001b[31mfa\u001b[1m\u001b[0m \u001b[1m\u001b[31mfa\u001b[1m\u001b[0m \u001b[1m\u001b[31mfa\u001b[1m\u001b[0m \u001b[1m\u001b[31mfa\u001b[1m\u001b[0m \u001b[1m\u001b[31mfa\u001b[1m\u001b[0m \u001b[1m\u001b[31mfa\u001b[1m\u001b[0m \u001b[1m\u001b[31mfa\u001b[1m\u001b[0m\n",
      "  0x0c167fff8040: \u001b[1m\u001b[31mfa\u001b[1m\u001b[0m \u001b[1m\u001b[31mfa\u001b[1m\u001b[0m \u001b[1m\u001b[31mfa\u001b[1m\u001b[0m \u001b[1m\u001b[31mfa\u001b[1m\u001b[0m \u001b[1m\u001b[31mfa\u001b[1m\u001b[0m \u001b[1m\u001b[31mfa\u001b[1m\u001b[0m \u001b[1m\u001b[31mfa\u001b[1m\u001b[0m \u001b[1m\u001b[31mfa\u001b[1m\u001b[0m \u001b[1m\u001b[31mfa\u001b[1m\u001b[0m \u001b[1m\u001b[31mfa\u001b[1m\u001b[0m \u001b[1m\u001b[31mfa\u001b[1m\u001b[0m \u001b[1m\u001b[31mfa\u001b[1m\u001b[0m \u001b[1m\u001b[31mfa\u001b[1m\u001b[0m \u001b[1m\u001b[31mfa\u001b[1m\u001b[0m \u001b[1m\u001b[31mfa\u001b[1m\u001b[0m \u001b[1m\u001b[31mfa\u001b[1m\u001b[0m\n",
      "  0x0c167fff8050: \u001b[1m\u001b[31mfa\u001b[1m\u001b[0m \u001b[1m\u001b[31mfa\u001b[1m\u001b[0m \u001b[1m\u001b[31mfa\u001b[1m\u001b[0m \u001b[1m\u001b[31mfa\u001b[1m\u001b[0m \u001b[1m\u001b[31mfa\u001b[1m\u001b[0m \u001b[1m\u001b[31mfa\u001b[1m\u001b[0m \u001b[1m\u001b[31mfa\u001b[1m\u001b[0m \u001b[1m\u001b[31mfa\u001b[1m\u001b[0m \u001b[1m\u001b[31mfa\u001b[1m\u001b[0m \u001b[1m\u001b[31mfa\u001b[1m\u001b[0m \u001b[1m\u001b[31mfa\u001b[1m\u001b[0m \u001b[1m\u001b[31mfa\u001b[1m\u001b[0m \u001b[1m\u001b[31mfa\u001b[1m\u001b[0m \u001b[1m\u001b[31mfa\u001b[1m\u001b[0m \u001b[1m\u001b[31mfa\u001b[1m\u001b[0m \u001b[1m\u001b[31mfa\u001b[1m\u001b[0m\n",
      "  0x0c167fff8060: \u001b[1m\u001b[31mfa\u001b[1m\u001b[0m \u001b[1m\u001b[31mfa\u001b[1m\u001b[0m \u001b[1m\u001b[31mfa\u001b[1m\u001b[0m \u001b[1m\u001b[31mfa\u001b[1m\u001b[0m \u001b[1m\u001b[31mfa\u001b[1m\u001b[0m \u001b[1m\u001b[31mfa\u001b[1m\u001b[0m \u001b[1m\u001b[31mfa\u001b[1m\u001b[0m \u001b[1m\u001b[31mfa\u001b[1m\u001b[0m \u001b[1m\u001b[31mfa\u001b[1m\u001b[0m \u001b[1m\u001b[31mfa\u001b[1m\u001b[0m \u001b[1m\u001b[31mfa\u001b[1m\u001b[0m \u001b[1m\u001b[31mfa\u001b[1m\u001b[0m \u001b[1m\u001b[31mfa\u001b[1m\u001b[0m \u001b[1m\u001b[31mfa\u001b[1m\u001b[0m \u001b[1m\u001b[31mfa\u001b[1m\u001b[0m \u001b[1m\u001b[31mfa\u001b[1m\u001b[0m\n",
      "  0x0c167fff8070: \u001b[1m\u001b[31mfa\u001b[1m\u001b[0m \u001b[1m\u001b[31mfa\u001b[1m\u001b[0m \u001b[1m\u001b[31mfa\u001b[1m\u001b[0m \u001b[1m\u001b[31mfa\u001b[1m\u001b[0m \u001b[1m\u001b[31mfa\u001b[1m\u001b[0m \u001b[1m\u001b[31mfa\u001b[1m\u001b[0m \u001b[1m\u001b[31mfa\u001b[1m\u001b[0m \u001b[1m\u001b[31mfa\u001b[1m\u001b[0m \u001b[1m\u001b[31mfa\u001b[1m\u001b[0m \u001b[1m\u001b[31mfa\u001b[1m\u001b[0m \u001b[1m\u001b[31mfa\u001b[1m\u001b[0m \u001b[1m\u001b[31mfa\u001b[1m\u001b[0m \u001b[1m\u001b[31mfa\u001b[1m\u001b[0m \u001b[1m\u001b[31mfa\u001b[1m\u001b[0m \u001b[1m\u001b[31mfa\u001b[1m\u001b[0m \u001b[1m\u001b[31mfa\u001b[1m\u001b[0m\n",
      "Shadow byte legend (one shadow byte represents 8 application bytes):\n",
      "  Addressable:           \u001b[1m\u001b[0m00\u001b[1m\u001b[0m\n",
      "  Partially addressable: \u001b[1m\u001b[0m01\u001b[1m\u001b[0m \u001b[1m\u001b[0m02\u001b[1m\u001b[0m \u001b[1m\u001b[0m03\u001b[1m\u001b[0m \u001b[1m\u001b[0m04\u001b[1m\u001b[0m \u001b[1m\u001b[0m05\u001b[1m\u001b[0m \u001b[1m\u001b[0m06\u001b[1m\u001b[0m \u001b[1m\u001b[0m07\u001b[1m\u001b[0m \n",
      "  Heap left redzone:       \u001b[1m\u001b[31mfa\u001b[1m\u001b[0m\n",
      "  Freed heap region:       \u001b[1m\u001b[35mfd\u001b[1m\u001b[0m\n",
      "  Stack left redzone:      \u001b[1m\u001b[31mf1\u001b[1m\u001b[0m\n",
      "  Stack mid redzone:       \u001b[1m\u001b[31mf2\u001b[1m\u001b[0m\n",
      "  Stack right redzone:     \u001b[1m\u001b[31mf3\u001b[1m\u001b[0m\n",
      "  Stack after return:      \u001b[1m\u001b[35mf5\u001b[1m\u001b[0m\n",
      "  Stack use after scope:   \u001b[1m\u001b[35mf8\u001b[1m\u001b[0m\n",
      "  Global redzone:          \u001b[1m\u001b[31mf9\u001b[1m\u001b[0m\n",
      "  Global init order:       \u001b[1m\u001b[36mf6\u001b[1m\u001b[0m\n",
      "  Poisoned by user:        \u001b[1m\u001b[34mf7\u001b[1m\u001b[0m\n",
      "  Container overflow:      \u001b[1m\u001b[34mfc\u001b[1m\u001b[0m\n",
      "  Array cookie:            \u001b[1m\u001b[31mac\u001b[1m\u001b[0m\n",
      "  Intra object redzone:    \u001b[1m\u001b[33mbb\u001b[1m\u001b[0m\n",
      "  ASan internal:           \u001b[1m\u001b[33mfe\u001b[1m\u001b[0m\n",
      "  Left alloca redzone:     \u001b[1m\u001b[34mca\u001b[1m\u001b[0m\n",
      "  Right alloca redzone:    \u001b[1m\u001b[34mcb\u001b[1m\u001b[0m\n",
      "==89049==ABORTING\n"
     ]
    }
   ],
   "source": [
    "!./program 110"
   ]
  },
  {
   "cell_type": "code",
   "execution_count": 43,
   "id": "f755f8e0",
   "metadata": {},
   "outputs": [],
   "source": [
    "!rm -fr program program.*"
   ]
  },
  {
   "cell_type": "code",
   "execution_count": 44,
   "id": "6d3ec8c1",
   "metadata": {},
   "outputs": [],
   "source": [
    "secrets = (\"<space for reply>\" + fuzzer(100) +\n",
    "           \"<secret-certificate>\" + fuzzer(100) +\n",
    "           \"<secret-key>\" + fuzzer(100) + \"<other-secrets>\")"
   ]
  },
  {
   "cell_type": "code",
   "execution_count": 45,
   "id": "a6368127",
   "metadata": {},
   "outputs": [],
   "source": [
    "uninitialized_memory_marker = \"deadbeef\"\n",
    "while len(secrets) < 2048:\n",
    "    secrets += uninitialized_memory_marker\n"
   ]
  },
  {
   "cell_type": "code",
   "execution_count": 46,
   "id": "6e35130e",
   "metadata": {},
   "outputs": [],
   "source": [
    "def heartbeat(reply: str, length: int, memory: str) -> str:\n",
    "    # Store reply in memory\n",
    "    memory = reply + memory[len(reply):]\n",
    "\n",
    "    # Send back heartbeat\n",
    "    s = \"\"\n",
    "    for i in range(length):\n",
    "        s += memory[i]\n",
    "    return s"
   ]
  },
  {
   "cell_type": "code",
   "execution_count": 47,
   "id": "8be4923a",
   "metadata": {},
   "outputs": [
    {
     "data": {
      "text/plain": [
       "'potato'"
      ]
     },
     "execution_count": 47,
     "metadata": {},
     "output_type": "execute_result"
    }
   ],
   "source": [
    "heartbeat(\"potato\", 6, memory=secrets)"
   ]
  },
  {
   "cell_type": "code",
   "execution_count": 48,
   "id": "c074a323",
   "metadata": {},
   "outputs": [
    {
     "data": {
      "text/plain": [
       "'bird'"
      ]
     },
     "execution_count": 48,
     "metadata": {},
     "output_type": "execute_result"
    }
   ],
   "source": [
    "heartbeat(\"bird\", 4, memory=secrets)"
   ]
  },
  {
   "cell_type": "code",
   "execution_count": 49,
   "id": "d9321cf3",
   "metadata": {},
   "outputs": [
    {
     "data": {
      "text/plain": [
       "'hatace for reply>/$,0\\'<><5650;5;)4()*#/*\",36.0\"4\" 07#88=&=; 27\\'*-6 <secret-certificate>:,=.,):=&4=-.4-;:8? %>8!\"$7/7)86\\'+*2*& 875#.(/; :;=>5 ?32/!>31)9!<secret-key>446;*\";;*(?%\"6,;9=3.)62, 0\\'11\\'7.,6%./ <3:,2!/7<other-secrets>deadbeefdeadbeefdeadbeefdeadbeefdeadbeefdeadbeefdeadbeefdeadbeefdeadbeefdeadbeefdeadbeefdeadbeefdeadbeefdeadbeefdeadbeefdeadbeefdeadbeefdeadbeefdeadbeefdeadbeefdeadbeefdeadbeefdeadbeefdeadbeefdeadbeefdeadbeefdeadbeefdeadbeefdeadbeefdeadbeefdeadbeefdeadbeefdeadbeefdeadbeefdea'"
      ]
     },
     "execution_count": 49,
     "metadata": {},
     "output_type": "execute_result"
    }
   ],
   "source": [
    "heartbeat(\"hat\", 500, memory=secrets)"
   ]
  },
  {
   "cell_type": "code",
   "execution_count": 50,
   "id": "a9e30583",
   "metadata": {},
   "outputs": [
    {
     "name": "stderr",
     "output_type": "stream",
     "text": [
      "Traceback (most recent call last):\n",
      "  File \"/tmp/ipykernel_11966/2459562132.py\", line 6, in <module>\n",
      "    assert not s.find(uninitialized_memory_marker)\n",
      "AssertionError (expected)\n"
     ]
    }
   ],
   "source": [
    "from ExpectError import ExpectError\n",
    "\n",
    "with ExpectError():\n",
    "    for i in range(10):\n",
    "        s = heartbeat(fuzzer(), random.randint(1, 500), memory=secrets)\n",
    "        assert not s.find(uninitialized_memory_marker)\n",
    "        assert not s.find(\"secret\")"
   ]
  },
  {
   "cell_type": "code",
   "execution_count": 51,
   "id": "ab496eaa",
   "metadata": {},
   "outputs": [
    {
     "data": {
      "text/plain": [
       "True"
      ]
     },
     "execution_count": 51,
     "metadata": {},
     "output_type": "execute_result"
    }
   ],
   "source": [
    "airport_codes: Dict[str, str] = {\n",
    "    \"YVR\": \"Vancouver\",\n",
    "    \"JFK\": \"New York-JFK\",\n",
    "    \"CDG\": \"Paris-Charles de Gaulle\",\n",
    "    \"CAI\": \"Cairo\",\n",
    "    \"LED\": \"St. Petersburg\",\n",
    "    \"PEK\": \"Beijing\",\n",
    "    \"HND\": \"Tokyo-Haneda\",\n",
    "    \"AKL\": \"Auckland\"\n",
    "}  # plus many more\n",
    "\n",
    "airport_codes[\"YVR\"]\n",
    "\n",
    "\"AKL\" in airport_codes"
   ]
  },
  {
   "cell_type": "code",
   "execution_count": 52,
   "id": "932e0526",
   "metadata": {},
   "outputs": [],
   "source": [
    "def code_repOK(code: str) -> bool:\n",
    "    assert len(code) == 3, \"Airport code must have three characters: \" + repr(code)\n",
    "    for c in code:\n",
    "        assert c.isalpha(), \"Non-letter in airport code: \" + repr(code)\n",
    "        assert c.isupper(), \"Lowercase letter in airport code: \" + repr(code)\n",
    "    return True\n",
    "\n",
    "assert code_repOK(\"SEA\")"
   ]
  },
  {
   "cell_type": "code",
   "execution_count": 53,
   "id": "a0c089e1",
   "metadata": {},
   "outputs": [],
   "source": [
    "def airport_codes_repOK():\n",
    "    for code in airport_codes:\n",
    "        assert code_repOK(code)\n",
    "    return True\n",
    "\n",
    "with ExpectError():\n",
    "    assert airport_codes_repOK()"
   ]
  },
  {
   "cell_type": "code",
   "execution_count": 54,
   "id": "36df68b1",
   "metadata": {},
   "outputs": [
    {
     "name": "stderr",
     "output_type": "stream",
     "text": [
      "Traceback (most recent call last):\n",
      "  File \"/tmp/ipykernel_11966/869960518.py\", line 4, in <module>\n",
      "    assert airport_codes_repOK()\n",
      "  File \"/tmp/ipykernel_11966/394991274.py\", line 3, in airport_codes_repOK\n",
      "    assert code_repOK(code)\n",
      "  File \"/tmp/ipykernel_11966/1386186712.py\", line 2, in code_repOK\n",
      "    assert len(code) == 3, \"Airport code must have three characters: \" + repr(code)\n",
      "AssertionError: Airport code must have three characters: 'YMML' (expected)\n"
     ]
    }
   ],
   "source": [
    "airport_codes[\"YMML\"] = \"Melbourne\"\n",
    "\n",
    "with ExpectError():\n",
    "    assert airport_codes_repOK()"
   ]
  },
  {
   "cell_type": "code",
   "execution_count": 55,
   "id": "0366275a",
   "metadata": {},
   "outputs": [],
   "source": [
    "def add_new_airport(code: str, city: str) -> None:\n",
    "    assert code_repOK(code)\n",
    "    airport_codes[code] = city\n",
    "\n",
    "with ExpectError():  # For BER, ExpectTimeout would be more appropriate\n",
    "    add_new_airport(\"BER\", \"Berlin\")"
   ]
  },
  {
   "cell_type": "code",
   "execution_count": 56,
   "id": "dab08363",
   "metadata": {},
   "outputs": [
    {
     "name": "stderr",
     "output_type": "stream",
     "text": [
      "Traceback (most recent call last):\n",
      "  File \"/tmp/ipykernel_11966/1427835309.py\", line 2, in <module>\n",
      "    add_new_airport(\"London-Heathrow\", \"LHR\")\n",
      "  File \"/tmp/ipykernel_11966/3789869367.py\", line 2, in add_new_airport\n",
      "    assert code_repOK(code)\n",
      "  File \"/tmp/ipykernel_11966/1386186712.py\", line 2, in code_repOK\n",
      "    assert len(code) == 3, \"Airport code must have three characters: \" + repr(code)\n",
      "AssertionError: Airport code must have three characters: 'London-Heathrow' (expected)\n"
     ]
    }
   ],
   "source": [
    "with ExpectError():\n",
    "    add_new_airport(\"London-Heathrow\", \"LHR\")"
   ]
  },
  {
   "cell_type": "code",
   "execution_count": 57,
   "id": "6a211167",
   "metadata": {},
   "outputs": [],
   "source": [
    "def add_new_airport_2(code: str, city: str) -> None:\n",
    "    assert code_repOK(code)\n",
    "    assert airport_codes_repOK()\n",
    "    airport_codes[code] = city\n",
    "    assert airport_codes_repOK()"
   ]
  },
  {
   "cell_type": "code",
   "execution_count": 58,
   "id": "aa26cd9a",
   "metadata": {},
   "outputs": [
    {
     "name": "stderr",
     "output_type": "stream",
     "text": [
      "Traceback (most recent call last):\n",
      "  File \"/tmp/ipykernel_11966/1096579022.py\", line 2, in <module>\n",
      "    add_new_airport_2(\"IST\", \"Istanbul Yeni Havalimanı\")\n",
      "  File \"/tmp/ipykernel_11966/2099116665.py\", line 3, in add_new_airport_2\n",
      "    assert airport_codes_repOK()\n",
      "  File \"/tmp/ipykernel_11966/394991274.py\", line 3, in airport_codes_repOK\n",
      "    assert code_repOK(code)\n",
      "  File \"/tmp/ipykernel_11966/1386186712.py\", line 2, in code_repOK\n",
      "    assert len(code) == 3, \"Airport code must have three characters: \" + repr(code)\n",
      "AssertionError: Airport code must have three characters: 'YMML' (expected)\n"
     ]
    }
   ],
   "source": [
    "with ExpectError():\n",
    "    add_new_airport_2(\"IST\", \"Istanbul Yeni Havalimanı\")"
   ]
  },
  {
   "cell_type": "code",
   "execution_count": 59,
   "id": "9da46856",
   "metadata": {},
   "outputs": [],
   "source": [
    "class RedBlackTree:\n",
    "    def repOK(self):\n",
    "        assert self.rootHasNoParent()\n",
    "        assert self.rootIsBlack()\n",
    "        assert self.rootNodesHaveOnlyBlackChildren()\n",
    "        assert self.treeIsAcyclic()\n",
    "        assert self.parentsAreConsistent()\n",
    "        return True\n",
    "\n",
    "    def rootIsBlack(self):\n",
    "        if self.parent is None:\n",
    "            assert self.color == BLACK\n",
    "        return True\n",
    "\n",
    "    def add_element(self, elem):\n",
    "        assert self.repOK()\n",
    "        ...  # Add the element\n",
    "        assert self.repOK()\n",
    "\n",
    "    def delete_element(self, elem):\n",
    "        assert self.repOK()\n",
    "        ...  # Delete the element\n",
    "        assert self.repOK()"
   ]
  },
  {
   "cell_type": "code",
   "execution_count": 60,
   "id": "3aa17452",
   "metadata": {},
   "outputs": [],
   "source": [
    "Outcome = str\n",
    "\n",
    "class Runner:\n",
    "    \"\"\"Base class for testing inputs.\"\"\"\n",
    "\n",
    "    # Test outcomes\n",
    "    PASS = \"PASS\"\n",
    "    FAIL = \"FAIL\"\n",
    "    UNRESOLVED = \"UNRESOLVED\"\n",
    "\n",
    "    def __init__(self) -> None:\n",
    "        \"\"\"Initialize\"\"\"\n",
    "        pass\n",
    "\n",
    "    def run(self, inp: str) -> Any:\n",
    "        \"\"\"Run the runner with the given input\"\"\"\n",
    "        return (inp, Runner.UNRESOLVED)"
   ]
  },
  {
   "cell_type": "code",
   "execution_count": 61,
   "id": "159e8e69",
   "metadata": {},
   "outputs": [],
   "source": [
    "class PrintRunner(Runner):\n",
    "    \"\"\"Simple runner, printing the input.\"\"\"\n",
    "\n",
    "    def run(self, inp) -> Any:\n",
    "        \"\"\"Print the given input\"\"\"\n",
    "        print(inp)\n",
    "        return (inp, Runner.UNRESOLVED)"
   ]
  },
  {
   "cell_type": "code",
   "execution_count": 62,
   "id": "1802af8f",
   "metadata": {},
   "outputs": [
    {
     "name": "stdout",
     "output_type": "stream",
     "text": [
      "Some input\n"
     ]
    }
   ],
   "source": [
    "p = PrintRunner()\n",
    "(result, outcome) = p.run(\"Some input\")"
   ]
  },
  {
   "cell_type": "code",
   "execution_count": 63,
   "id": "b55cff77",
   "metadata": {},
   "outputs": [
    {
     "data": {
      "text/plain": [
       "'Some input'"
      ]
     },
     "execution_count": 63,
     "metadata": {},
     "output_type": "execute_result"
    }
   ],
   "source": [
    "result"
   ]
  },
  {
   "cell_type": "code",
   "execution_count": 64,
   "id": "55b70ab5",
   "metadata": {},
   "outputs": [
    {
     "data": {
      "text/plain": [
       "'UNRESOLVED'"
      ]
     },
     "execution_count": 64,
     "metadata": {},
     "output_type": "execute_result"
    }
   ],
   "source": [
    "outcome"
   ]
  },
  {
   "cell_type": "code",
   "execution_count": 65,
   "id": "223a388f",
   "metadata": {},
   "outputs": [],
   "source": [
    "class ProgramRunner(Runner):\n",
    "    \"\"\"Test a program with inputs.\"\"\"\n",
    "\n",
    "    def __init__(self, program: Union[str, List[str]]) -> None:\n",
    "        \"\"\"Initialize.\n",
    "           `program` is a program spec as passed to `subprocess.run()`\"\"\"\n",
    "        self.program = program\n",
    "\n",
    "    def run_process(self, inp: str = \"\") -> subprocess.CompletedProcess:\n",
    "        \"\"\"Run the program with `inp` as input.\n",
    "           Return result of `subprocess.run()`.\"\"\"\n",
    "        return subprocess.run(self.program,\n",
    "                              input=inp,\n",
    "                              stdout=subprocess.PIPE,\n",
    "                              stderr=subprocess.PIPE,\n",
    "                              universal_newlines=True)\n",
    "\n",
    "    def run(self, inp: str = \"\") -> Tuple[subprocess.CompletedProcess, Outcome]:\n",
    "        \"\"\"Run the program with `inp` as input.  \n",
    "           Return test outcome based on result of `subprocess.run()`.\"\"\"\n",
    "        result = self.run_process(inp)\n",
    "\n",
    "        if result.returncode == 0:\n",
    "            outcome = self.PASS\n",
    "        elif result.returncode < 0:\n",
    "            outcome = self.FAIL\n",
    "        else:\n",
    "            outcome = self.UNRESOLVED\n",
    "\n",
    "        return (result, outcome)"
   ]
  },
  {
   "cell_type": "code",
   "execution_count": 66,
   "id": "4d866a41",
   "metadata": {},
   "outputs": [],
   "source": [
    "class BinaryProgramRunner(ProgramRunner):\n",
    "    def run_process(self, inp: str = \"\") -> subprocess.CompletedProcess:\n",
    "        \"\"\"Run the program with `inp` as input.  \n",
    "           Return result of `subprocess.run()`.\"\"\"\n",
    "        return subprocess.run(self.program,\n",
    "                              input=inp.encode(),\n",
    "                              stdout=subprocess.PIPE,\n",
    "                              stderr=subprocess.PIPE)"
   ]
  },
  {
   "cell_type": "code",
   "execution_count": 67,
   "id": "bd9936c1",
   "metadata": {},
   "outputs": [
    {
     "data": {
      "text/plain": [
       "(CompletedProcess(args='cat', returncode=0, stdout='hello', stderr=''), 'PASS')"
      ]
     },
     "execution_count": 67,
     "metadata": {},
     "output_type": "execute_result"
    }
   ],
   "source": [
    "cat = ProgramRunner(program=\"cat\")\n",
    "cat.run(\"hello\")"
   ]
  },
  {
   "cell_type": "code",
   "execution_count": 68,
   "id": "497b9582",
   "metadata": {},
   "outputs": [],
   "source": [
    "class Fuzzer:\n",
    "    \"\"\"Base class for fuzzers.\"\"\"\n",
    "\n",
    "    def __init__(self) -> None:\n",
    "        \"\"\"Constructor\"\"\"\n",
    "        pass\n",
    "\n",
    "    def fuzz(self) -> str:\n",
    "        \"\"\"Return fuzz input\"\"\"\n",
    "        return \"\"\n",
    "\n",
    "    def run(self, runner: Runner = Runner()) \\\n",
    "            -> Tuple[subprocess.CompletedProcess, Outcome]:\n",
    "        \"\"\"Run `runner` with fuzz input\"\"\"\n",
    "        return runner.run(self.fuzz())\n",
    "\n",
    "    def runs(self, runner: Runner = PrintRunner(), trials: int = 10) \\\n",
    "            -> List[Tuple[subprocess.CompletedProcess, Outcome]]:\n",
    "        \"\"\"Run `runner` with fuzz input, `trials` times\"\"\"\n",
    "        return [self.run(runner) for i in range(trials)]"
   ]
  },
  {
   "cell_type": "code",
   "execution_count": 69,
   "id": "d3df8a9f",
   "metadata": {},
   "outputs": [],
   "source": [
    "class RandomFuzzer(Fuzzer):\n",
    "    \"\"\"Produce random inputs.\"\"\"\n",
    "\n",
    "    def __init__(self, min_length: int = 10, max_length: int = 100,\n",
    "                 char_start: int = 32, char_range: int = 32) -> None:\n",
    "        \"\"\"Produce strings of `min_length` to `max_length` characters\n",
    "           in the range [`char_start`, `char_start` + `char_range`)\"\"\"\n",
    "        self.min_length = min_length\n",
    "        self.max_length = max_length\n",
    "        self.char_start = char_start\n",
    "        self.char_range = char_range\n",
    "\n",
    "    def fuzz(self) -> str:\n",
    "        string_length = random.randrange(self.min_length, self.max_length + 1)\n",
    "        out = \"\"\n",
    "        for i in range(0, string_length):\n",
    "            out += chr(random.randrange(self.char_start,\n",
    "                                        self.char_start + self.char_range))\n",
    "        return out"
   ]
  },
  {
   "cell_type": "code",
   "execution_count": 70,
   "id": "f0f3581e",
   "metadata": {},
   "outputs": [
    {
     "name": "stdout",
     "output_type": "stream",
     "text": [
      ":)6;%/(<!#-9*511<81;\n",
      ",*%>1&3-7(.4\"'*;362!\n",
      "6??$-8\"=*6 .> (\"*)%;\n",
      "'81/\"60=?/4,\"7:-;)\"-\n",
      "$.3(),$(17-$#266717=\n",
      "7;3$1:>!40&:=-<24\"==\n",
      "5=0&5+91#$.5 07;#,,!\n",
      "?30>#61)$4--8=<7)4 )\n",
      "3/%,5+! \"4)0?.9+?3()\n",
      "<42?=?0=7(+/+((1)#/0\n"
     ]
    }
   ],
   "source": [
    "random_fuzzer = RandomFuzzer(min_length=20, max_length=20)\n",
    "for i in range(10):\n",
    "    print(random_fuzzer.fuzz())"
   ]
  },
  {
   "cell_type": "code",
   "execution_count": 71,
   "id": "9080b564",
   "metadata": {},
   "outputs": [],
   "source": [
    "for i in range(10):\n",
    "    inp = random_fuzzer.fuzz()\n",
    "    result, outcome = cat.run(inp)\n",
    "    assert result.stdout == inp\n",
    "    assert outcome == Runner.PASS"
   ]
  },
  {
   "cell_type": "code",
   "execution_count": 72,
   "id": "23c38619",
   "metadata": {},
   "outputs": [
    {
     "data": {
      "text/plain": [
       "(CompletedProcess(args='cat', returncode=0, stdout='%,#$>/51$2964>;)2417', stderr=''),\n",
       " 'PASS')"
      ]
     },
     "execution_count": 72,
     "metadata": {},
     "output_type": "execute_result"
    }
   ],
   "source": [
    "random_fuzzer.run(cat)"
   ]
  },
  {
   "cell_type": "code",
   "execution_count": 73,
   "id": "48bb4139",
   "metadata": {},
   "outputs": [
    {
     "data": {
      "text/plain": [
       "[(CompletedProcess(args='cat', returncode=0, stdout='9\"2&4907.. !7:&--\"=$', stderr=''),\n",
       "  'PASS'),\n",
       " (CompletedProcess(args='cat', returncode=0, stdout='\\',7*>(5=5\\'.!*+&>\")6%', stderr=''),\n",
       "  'PASS'),\n",
       " (CompletedProcess(args='cat', returncode=0, stdout=')=,/5?:&5) \";.0!=6>3', stderr=''),\n",
       "  'PASS'),\n",
       " (CompletedProcess(args='cat', returncode=0, stdout='>)=,)6&,?:!#2))- ?:)', stderr=''),\n",
       "  'PASS'),\n",
       " (CompletedProcess(args='cat', returncode=0, stdout=\"63'-4,)9#839%)?&(0<6\", stderr=''),\n",
       "  'PASS'),\n",
       " (CompletedProcess(args='cat', returncode=0, stdout='\"*;)!4?!(49+8=-\\'&499', stderr=''),\n",
       "  'PASS'),\n",
       " (CompletedProcess(args='cat', returncode=0, stdout=\"?< '>>-*$ =(' #1.:3?\", stderr=''),\n",
       "  'PASS'),\n",
       " (CompletedProcess(args='cat', returncode=0, stdout='?#7\"&>;<-%8$:5+(?1/7', stderr=''),\n",
       "  'PASS'),\n",
       " (CompletedProcess(args='cat', returncode=0, stdout='1&414;\"-% !;&$3\";/%6', stderr=''),\n",
       "  'PASS'),\n",
       " (CompletedProcess(args='cat', returncode=0, stdout='31/06+</8/3&;0%*%822', stderr=''),\n",
       "  'PASS')]"
      ]
     },
     "execution_count": 73,
     "metadata": {},
     "output_type": "execute_result"
    }
   ],
   "source": [
    "random_fuzzer.runs(cat, 10)"
   ]
  },
  {
   "cell_type": "code",
   "execution_count": 74,
   "id": "03683c1d",
   "metadata": {},
   "outputs": [],
   "source": [
    "os.remove(FILE)\n",
    "os.removedirs(tempdir)"
   ]
  },
  {
   "cell_type": "code",
   "execution_count": 146,
   "id": "b304f675",
   "metadata": {},
   "outputs": [],
   "source": [
    "def f1(s: str):\n",
    "    for i in range(0, 32):\n",
    "        if s.find(chr(i)) != -1 and s.find(chr(i)) == s.find(\"\\D\") + 2 and s.find(\"\\D\") != -1:\n",
    "            raise ValueError"
   ]
  },
  {
   "cell_type": "code",
   "execution_count": 104,
   "id": "e882d07e",
   "metadata": {},
   "outputs": [],
   "source": [
    "f1('\\D')"
   ]
  },
  {
   "cell_type": "code",
   "execution_count": 105,
   "id": "cef96766",
   "metadata": {},
   "outputs": [
    {
     "name": "stdout",
     "output_type": "stream",
     "text": [
      "asdf\\D\u0000\n"
     ]
    },
    {
     "ename": "ValueError",
     "evalue": "",
     "output_type": "error",
     "traceback": [
      "\u001b[0;31m---------------------------------------------------------------------------\u001b[0m",
      "\u001b[0;31mValueError\u001b[0m                                Traceback (most recent call last)",
      "\u001b[0;32m/tmp/ipykernel_11966/252650669.py\u001b[0m in \u001b[0;36m<module>\u001b[0;34m\u001b[0m\n\u001b[1;32m      2\u001b[0m \u001b[0ms\u001b[0m \u001b[0;34m+=\u001b[0m \u001b[0mchr\u001b[0m\u001b[0;34m(\u001b[0m\u001b[0;36m0\u001b[0m\u001b[0;34m)\u001b[0m\u001b[0;34m\u001b[0m\u001b[0;34m\u001b[0m\u001b[0m\n\u001b[1;32m      3\u001b[0m \u001b[0mprint\u001b[0m\u001b[0;34m(\u001b[0m\u001b[0ms\u001b[0m\u001b[0;34m)\u001b[0m\u001b[0;34m\u001b[0m\u001b[0;34m\u001b[0m\u001b[0m\n\u001b[0;32m----> 4\u001b[0;31m \u001b[0mf1\u001b[0m\u001b[0;34m(\u001b[0m\u001b[0ms\u001b[0m\u001b[0;34m)\u001b[0m\u001b[0;34m\u001b[0m\u001b[0;34m\u001b[0m\u001b[0m\n\u001b[0m",
      "\u001b[0;32m/tmp/ipykernel_11966/3423115594.py\u001b[0m in \u001b[0;36mf1\u001b[0;34m(s)\u001b[0m\n\u001b[1;32m      2\u001b[0m     \u001b[0;32mfor\u001b[0m \u001b[0mi\u001b[0m \u001b[0;32min\u001b[0m \u001b[0mrange\u001b[0m\u001b[0;34m(\u001b[0m\u001b[0;36m0\u001b[0m\u001b[0;34m,\u001b[0m \u001b[0;36m32\u001b[0m\u001b[0;34m)\u001b[0m\u001b[0;34m:\u001b[0m\u001b[0;34m\u001b[0m\u001b[0;34m\u001b[0m\u001b[0m\n\u001b[1;32m      3\u001b[0m         \u001b[0;32mif\u001b[0m \u001b[0ms\u001b[0m\u001b[0;34m.\u001b[0m\u001b[0mfind\u001b[0m\u001b[0;34m(\u001b[0m\u001b[0mchr\u001b[0m\u001b[0;34m(\u001b[0m\u001b[0mi\u001b[0m\u001b[0;34m)\u001b[0m\u001b[0;34m)\u001b[0m \u001b[0;34m!=\u001b[0m \u001b[0;34m-\u001b[0m\u001b[0;36m1\u001b[0m \u001b[0;32mand\u001b[0m \u001b[0ms\u001b[0m\u001b[0;34m.\u001b[0m\u001b[0mfind\u001b[0m\u001b[0;34m(\u001b[0m\u001b[0mchr\u001b[0m\u001b[0;34m(\u001b[0m\u001b[0mi\u001b[0m\u001b[0;34m)\u001b[0m\u001b[0;34m)\u001b[0m \u001b[0;34m==\u001b[0m \u001b[0ms\u001b[0m\u001b[0;34m.\u001b[0m\u001b[0mfind\u001b[0m\u001b[0;34m(\u001b[0m\u001b[0;34m\"\\D\"\u001b[0m\u001b[0;34m)\u001b[0m \u001b[0;34m+\u001b[0m \u001b[0;36m2\u001b[0m \u001b[0;32mand\u001b[0m \u001b[0ms\u001b[0m\u001b[0;34m.\u001b[0m\u001b[0mfind\u001b[0m\u001b[0;34m(\u001b[0m\u001b[0;34m\"\\D\"\u001b[0m\u001b[0;34m)\u001b[0m \u001b[0;34m!=\u001b[0m \u001b[0;34m-\u001b[0m\u001b[0;36m1\u001b[0m\u001b[0;34m:\u001b[0m\u001b[0;34m\u001b[0m\u001b[0;34m\u001b[0m\u001b[0m\n\u001b[0;32m----> 4\u001b[0;31m             \u001b[0;32mraise\u001b[0m \u001b[0mValueError\u001b[0m\u001b[0;34m\u001b[0m\u001b[0;34m\u001b[0m\u001b[0m\n\u001b[0m",
      "\u001b[0;31mValueError\u001b[0m: "
     ]
    }
   ],
   "source": [
    "s = 'asdf\\D'\n",
    "s += chr(0)\n",
    "f1(s)"
   ]
  },
  {
   "cell_type": "code",
   "execution_count": 147,
   "id": "f18e85b4",
   "metadata": {},
   "outputs": [],
   "source": [
    "def f2(s: str):\n",
    "    for i in range(128, 256):\n",
    "        if s.find(chr(i)) != -1 and s.find(chr(i)) == s.find('\\n') - 1 and s.find('\\n') != -1:\n",
    "            raise ValueError"
   ]
  },
  {
   "cell_type": "code",
   "execution_count": 79,
   "id": "228c9061",
   "metadata": {},
   "outputs": [
    {
     "ename": "ValueError",
     "evalue": "",
     "output_type": "error",
     "traceback": [
      "\u001b[0;31m---------------------------------------------------------------------------\u001b[0m",
      "\u001b[0;31mValueError\u001b[0m                                Traceback (most recent call last)",
      "\u001b[0;32m/tmp/ipykernel_11966/235106102.py\u001b[0m in \u001b[0;36m<module>\u001b[0;34m\u001b[0m\n\u001b[1;32m      1\u001b[0m \u001b[0ms\u001b[0m \u001b[0;34m=\u001b[0m \u001b[0;34m'Ç\\n'\u001b[0m\u001b[0;34m\u001b[0m\u001b[0;34m\u001b[0m\u001b[0m\n\u001b[0;32m----> 2\u001b[0;31m \u001b[0mf2\u001b[0m\u001b[0;34m(\u001b[0m\u001b[0ms\u001b[0m\u001b[0;34m)\u001b[0m\u001b[0;34m\u001b[0m\u001b[0;34m\u001b[0m\u001b[0m\n\u001b[0m",
      "\u001b[0;32m/tmp/ipykernel_11966/3186495998.py\u001b[0m in \u001b[0;36mf2\u001b[0;34m(s)\u001b[0m\n\u001b[1;32m      2\u001b[0m     \u001b[0;32mfor\u001b[0m \u001b[0mi\u001b[0m \u001b[0;32min\u001b[0m \u001b[0mrange\u001b[0m\u001b[0;34m(\u001b[0m\u001b[0;36m128\u001b[0m\u001b[0;34m,\u001b[0m \u001b[0;36m256\u001b[0m\u001b[0;34m)\u001b[0m\u001b[0;34m:\u001b[0m\u001b[0;34m\u001b[0m\u001b[0;34m\u001b[0m\u001b[0m\n\u001b[1;32m      3\u001b[0m         \u001b[0;32mif\u001b[0m \u001b[0ms\u001b[0m\u001b[0;34m.\u001b[0m\u001b[0mfind\u001b[0m\u001b[0;34m(\u001b[0m\u001b[0mchr\u001b[0m\u001b[0;34m(\u001b[0m\u001b[0mi\u001b[0m\u001b[0;34m)\u001b[0m\u001b[0;34m)\u001b[0m \u001b[0;34m!=\u001b[0m \u001b[0;34m-\u001b[0m\u001b[0;36m1\u001b[0m \u001b[0;32mand\u001b[0m \u001b[0ms\u001b[0m\u001b[0;34m.\u001b[0m\u001b[0mfind\u001b[0m\u001b[0;34m(\u001b[0m\u001b[0mchr\u001b[0m\u001b[0;34m(\u001b[0m\u001b[0mi\u001b[0m\u001b[0;34m)\u001b[0m\u001b[0;34m)\u001b[0m \u001b[0;34m==\u001b[0m \u001b[0ms\u001b[0m\u001b[0;34m.\u001b[0m\u001b[0mfind\u001b[0m\u001b[0;34m(\u001b[0m\u001b[0;34m'\\n'\u001b[0m\u001b[0;34m)\u001b[0m \u001b[0;34m-\u001b[0m \u001b[0;36m1\u001b[0m \u001b[0;32mand\u001b[0m \u001b[0ms\u001b[0m\u001b[0;34m.\u001b[0m\u001b[0mfind\u001b[0m\u001b[0;34m(\u001b[0m\u001b[0;34m'\\n'\u001b[0m\u001b[0;34m)\u001b[0m \u001b[0;34m!=\u001b[0m \u001b[0;34m-\u001b[0m\u001b[0;36m1\u001b[0m\u001b[0;34m:\u001b[0m\u001b[0;34m\u001b[0m\u001b[0;34m\u001b[0m\u001b[0m\n\u001b[0;32m----> 4\u001b[0;31m             \u001b[0;32mraise\u001b[0m \u001b[0mValueError\u001b[0m\u001b[0;34m\u001b[0m\u001b[0;34m\u001b[0m\u001b[0m\n\u001b[0m",
      "\u001b[0;31mValueError\u001b[0m: "
     ]
    }
   ],
   "source": [
    "s = 'Ç\\n'\n",
    "f2(s)"
   ]
  },
  {
   "cell_type": "code",
   "execution_count": 148,
   "id": "5cf8aa33",
   "metadata": {},
   "outputs": [],
   "source": [
    "def f3(s: str):\n",
    "    if s.find('.') != -1 and s.find('.') == s.find('\\n') - 1 and s.find('\\n') != -1:\n",
    "        raise ValueError"
   ]
  },
  {
   "cell_type": "code",
   "execution_count": 86,
   "id": "51ff1590",
   "metadata": {},
   "outputs": [
    {
     "ename": "ValueError",
     "evalue": "",
     "output_type": "error",
     "traceback": [
      "\u001b[0;31m---------------------------------------------------------------------------\u001b[0m",
      "\u001b[0;31mValueError\u001b[0m                                Traceback (most recent call last)",
      "\u001b[0;32m/tmp/ipykernel_11966/3982720049.py\u001b[0m in \u001b[0;36m<module>\u001b[0;34m\u001b[0m\n\u001b[1;32m      1\u001b[0m \u001b[0ms\u001b[0m \u001b[0;34m=\u001b[0m \u001b[0;34m'.\\n'\u001b[0m\u001b[0;34m\u001b[0m\u001b[0;34m\u001b[0m\u001b[0m\n\u001b[0;32m----> 2\u001b[0;31m \u001b[0mf3\u001b[0m\u001b[0;34m(\u001b[0m\u001b[0ms\u001b[0m\u001b[0;34m)\u001b[0m\u001b[0;34m\u001b[0m\u001b[0;34m\u001b[0m\u001b[0m\n\u001b[0m",
      "\u001b[0;32m/tmp/ipykernel_11966/1434073655.py\u001b[0m in \u001b[0;36mf3\u001b[0;34m(s)\u001b[0m\n\u001b[1;32m      1\u001b[0m \u001b[0;32mdef\u001b[0m \u001b[0mf3\u001b[0m\u001b[0;34m(\u001b[0m\u001b[0ms\u001b[0m\u001b[0;34m:\u001b[0m \u001b[0mstr\u001b[0m\u001b[0;34m)\u001b[0m\u001b[0;34m:\u001b[0m\u001b[0;34m\u001b[0m\u001b[0;34m\u001b[0m\u001b[0m\n\u001b[1;32m      2\u001b[0m     \u001b[0;32mif\u001b[0m \u001b[0ms\u001b[0m\u001b[0;34m.\u001b[0m\u001b[0mfind\u001b[0m\u001b[0;34m(\u001b[0m\u001b[0;34m'.'\u001b[0m\u001b[0;34m)\u001b[0m \u001b[0;34m!=\u001b[0m \u001b[0;34m-\u001b[0m\u001b[0;36m1\u001b[0m \u001b[0;32mand\u001b[0m \u001b[0ms\u001b[0m\u001b[0;34m.\u001b[0m\u001b[0mfind\u001b[0m\u001b[0;34m(\u001b[0m\u001b[0;34m'.'\u001b[0m\u001b[0;34m)\u001b[0m \u001b[0;34m==\u001b[0m \u001b[0ms\u001b[0m\u001b[0;34m.\u001b[0m\u001b[0mfind\u001b[0m\u001b[0;34m(\u001b[0m\u001b[0;34m'\\n'\u001b[0m\u001b[0;34m)\u001b[0m \u001b[0;34m-\u001b[0m \u001b[0;36m1\u001b[0m \u001b[0;32mand\u001b[0m \u001b[0ms\u001b[0m\u001b[0;34m.\u001b[0m\u001b[0mfind\u001b[0m\u001b[0;34m(\u001b[0m\u001b[0;34m'\\n'\u001b[0m\u001b[0;34m)\u001b[0m \u001b[0;34m!=\u001b[0m \u001b[0;34m-\u001b[0m\u001b[0;36m1\u001b[0m\u001b[0;34m:\u001b[0m\u001b[0;34m\u001b[0m\u001b[0;34m\u001b[0m\u001b[0m\n\u001b[0;32m----> 3\u001b[0;31m         \u001b[0;32mraise\u001b[0m \u001b[0mValueError\u001b[0m\u001b[0;34m\u001b[0m\u001b[0;34m\u001b[0m\u001b[0m\n\u001b[0m",
      "\u001b[0;31mValueError\u001b[0m: "
     ]
    }
   ],
   "source": [
    "s = '.\\n'\n",
    "f3(s)"
   ]
  },
  {
   "cell_type": "code",
   "execution_count": 150,
   "id": "8c849d1e",
   "metadata": {},
   "outputs": [],
   "source": [
    "class TroffRunner(Runner):\n",
    "    \"\"\"Troff Runner for the 2nd task.\"\"\"\n",
    "    def __init__(self) -> None:\n",
    "        self.first_predicate_fails = 0\n",
    "        self.second_predicate_fails = 0\n",
    "        self.third_predicate_fails = 0\n",
    "\n",
    "    def run(self, inp) -> Any:\n",
    "        \"\"\"Run with provided input all the constraint-functions.\"\"\"\n",
    "        try:\n",
    "            f1(inp)\n",
    "        except ValueError:\n",
    "            self.first_predicate_fails += 1\n",
    "            return (inp, Runner.FAIL)\n",
    "        except Exception:\n",
    "            return (inp, Runner.UNRESOLVED)\n",
    "        \n",
    "        try:\n",
    "            f2(inp)\n",
    "        except ValueError:\n",
    "            self.second_predicate_fails += 1\n",
    "            return (inp, Runner.FAIL)\n",
    "        except Exception:\n",
    "            return (inp, Runner.UNRESOLVED)\n",
    "        \n",
    "        try:\n",
    "            f3(inp)\n",
    "        except ValueError:\n",
    "            self.third_predicate_fails += 1\n",
    "            return (inp, Runner.FAIL)\n",
    "        except Exception:\n",
    "            return (inp, Runner.UNRESOLVED)\n",
    "        \n",
    "        return (inp, Runner.PASS)\n",
    "    "
   ]
  },
  {
   "cell_type": "code",
   "execution_count": 152,
   "id": "99454c11",
   "metadata": {},
   "outputs": [
    {
     "name": "stdout",
     "output_type": "stream",
     "text": [
      "The ratio of failes is 0.07774840615767377\n",
      "The ratio of unresolved cases is 0.0\n",
      "The numbers of fails in the 1st, the 2nd and the 3rd predicate is 7 9899 94\n"
     ]
    }
   ],
   "source": [
    "random_fuzzer = RandomFuzzer(min_length=3, max_length=100, char_start = 0, char_range= 255)\n",
    "troff_fuzzing = TroffRunner()\n",
    "passes = 0\n",
    "failes = 0\n",
    "nan = 0\n",
    "\n",
    "while (failes != 10000):\n",
    "    (result, outcome) = troff_fuzzing.run(random_fuzzer.fuzz())\n",
    "    if outcome == \"FAIL\":\n",
    "        failes += 1\n",
    "    elif outcome == \"PASS\":\n",
    "        passes += 1\n",
    "    elif outcome == \"UNRESOLVED\":\n",
    "        nan += 1\n",
    "\n",
    "print(\"The ratio of failes is \" + str(failes / (failes + passes + nan)))\n",
    "print(\"The ratio of unresolved cases is \" + str(nan / (failes + passes + nan)))\n",
    "print(\"The numbers of fails in the 1st, the 2nd and the 3rd predicate is \" + \n",
    "     str(troff_fuzzing.first_predicate_fails) + \" \" + str(troff_fuzzing.second_predicate_fails)\n",
    "      + \" \" + str(troff_fuzzing.third_predicate_fails))"
   ]
  },
  {
   "cell_type": "code",
   "execution_count": 156,
   "id": "9d4a5628",
   "metadata": {},
   "outputs": [
    {
     "name": "stdout",
     "output_type": "stream",
     "text": [
      "9VeWï\n",
      "ÙÍÛWVõ*ñí¸466É$[¢WïüE\\®ã`oÌ2C`L<ÛÇò\u0013_³\u0001\u001b\u0000 FAIL\n",
      "à@ÌÈ\n",
      "#`Õ®²¡ã FAIL\n",
      "Ñãí®ðã\\«\n",
      "}½6}Z\\\u0005åøÜ",
      "¯u¡H#\u0013 î\u001b fÀ\u001c",
      "ßÌlø}è\u001b.\\Û'üopè)X,yê+Áb6ÎJðð@'  -JÑP¨þ\t¶³ FAIL\n",
      "5ãFl¸\"E\u0011\u0013ÛX1ð3u¦µ\u001f¿ì9À¨Y47Ó5yv",
      "\n",
      "r5<mØ{y&\u0003¯Ý FAIL\n",
      "¤|÷ùásuñ£ÚSø(¦\b[íÅ\n",
      " \u0013ýy¥¾(FÈä[æÚöÏ¼#Æ\u000f%rø^Ù¤ FAIL\n",
      "à\n",
      "jæ²\r",
      "â´i\u0007#ÁÀñD\u0014\tZüRª,Ñ\bº¨P3$êÆûfü\u0002ûÝ2ðxÄ#è×ÁH FAIL\n",
      "ù%thtAª/F",
      "ô;la¾µÖ~Drö¢¥¾L\u0001$þJHK\r",
      "ÁØ\u0005tQ|g\u001b\u001d",
      "Øãë¶k¥>õL\t¶ðóÈOåCÆ\n",
      "|PüiÙà$ÉQ¤-\u0013yÄá÷ªlF<hZtmznpç4\u0011 FAIL\n",
      "!ö\u0010§â\n",
      " È°h{>ãÅfLò£à/63J§åÉõæ~\u0010+¯KdcóÙ(<'ó\u0002c¬vYÍ4èy~\r",
      "¿\u000e\u001b{\u0013¶³\r",
      " FAIL\n",
      "Ê¬ÔC\u0002¡)~çúâ\u0015\u000fÛÜ<\u0013\r",
      "PÈ¼\u0014¨¶S\n",
      "øH\f",
      "Ë*Z©]Wwìý1|§r/*ü­Ï$¢ô^ü\u001b\u000b",
      "È>úP\u0017è FAIL\n",
      "µlr Y©\f",
      "\u0014ä\u0000°º\n",
      "²î:o\u0002£dÈ\u0010IÏíÄUPwëo£ØeÊåA?TÏXzÖ{K­iIPYÙ{û´Ç\u001a?8MÓÏ&?<®%\u001c",
      "ß  FAIL\n",
      "¥UÆA\u001e",
      "Õ\u00170ÄÏ´AIEä\u0018ÝÈ\u001e",
      "í6Yn\u0017\u001a\u0011Õ[}[Üü·¤{û´Ï\u001e",
      "\u0006ð\u0012\b6\u0012\u0003ì\u0013EYZb»\n",
      ")\u0017e\u000ff]ñ±Z0Ä\u0002«¾\u0016JEà¾ FAIL\n",
      "7I¥ëÀ²A\u001fGÌnöÆ»ï\r",
      "§{LGHÆ\u0019½¾]q\u0016:IGI= ¬\u0017hK¥\u0005ð\u0017o2µõp]¾x1¹>H¬Ñ»Ë¹$´l\u000fæ\n",
      "PìkR FAIL\n",
      "c%®|·¹ì\n",
      "\u0014ñ!*}'Ya:}\u001e",
      "Â\u0015iþM:±õ>j[rðxfÌláã4= FAIL\n",
      "OÎÊÉðåeÏº\n",
      "Õ\u001fTøú\u0015^\u0001l\u001e",
      "\u0017\u0015£Ã\"X5/¹O×ZA@`Öv,á`½tæµæ4ïá\u0007ª@­ów\u0002ötq\u0018éÎ FAIL\n",
      "Íl¸å1:?mßï\bï\u0002Â_e2³Ù{>JL\r",
      "7\"5Û\t[³\u001b@Kè~k\u001c",
      "HKêöDn.\u0004¬íÔ9¡\u0002'i\u0006Ö\n",
      "XÐ ÅÔÞ1 FAIL\n",
      "äÂ\u0010¨f)iÑÏ£¤íä³Dºù¨úÔ\n",
      "Ò°²¢m9òlk^\u0014¶¯\u001d",
      "UC.\u0006\u0013¡a/úºÑiºæ¡ FAIL\n",
      "ø\u001c",
      "¿°³\u0017ÌÄà\n",
      "°bØ\u001a\u001b\u0013oéwí\u001f6;Q¥\u0003¨\u0018\bç:Z±\u0018\u0001\n",
      ",\n",
      "O 8;Côö\u00018º·å6 FAIL\n",
      "®\n",
      "¤{wsÔÐÊ,;¾\u0011º\u000f9þxê =Ä\u000f\u001f\u001d",
      "XÔyMÃ\u000b",
      "ÛaÒP<\u0005hàt´½q,ÍUB\"$)tOi=Ö\u000f¯ió\u000fHÎ\u001b\u0002Óg³ÓÆ¶Y\u0005Í Q/VwÖ!ÕÌ\u0015\u000b",
      " FAIL\n",
      "W ÎÝàòN\u0017_»ÕÝw¡ ¡T.¹¿%UzºÄ\u0000ÛÀ=kI[xÂÍWËºs§\\\u0018Ô»h~lû\r",
      "ýÀØ\u0007\f",
      "$\u000b",
      "Á/úìùÂE\n",
      "½Ñ4÷¹û´À FAIL\n",
      "­8³9[ìiçË$­èw\"W.Íî¾Z\u0003Ò¹\u0018Pk¥Y\n",
      "-%\n",
      "Ñ×H\u001e",
      "\u001b¯\byÅgmQQC\u0004z-:$\u0006Ï±TÞ\u001b¯3«þîgÁáAéÑKÂcFÑº\u001e",
      "Ïk FAIL\n",
      "·&IEE<1ðèÜ\n",
      "Ë£\u0010j°(\u0011T³¾érã|£Õ¥Yk²±i\u0019þÞ~(f»á¥ÜÉädycU\u0017É\u001c",
      " FAIL\n",
      "$:nÐóR0_Ðnûw¥´#(\u000eW3¸x¶\u0018!y\u0006¨uéävBiæÉÁºõlÆWvÁ\u001aØ\n",
      "}N\u000fÇFP FAIL\n",
      "Z\u001e",
      "5\u0013Ù\n",
      "ëÍ¸±\u0006Í\u0002òd\u0010Û<\u0001Os\u001c",
      "¯Éç*?\f",
      "\u000f¯bôX FAIL\n",
      "\u0011U\u0002\u0006)!Fã\u0016k7§R\u001a3\u001e",
      "r¼\f",
      "­\n",
      "¯ FAIL\n",
      "$j°\n",
      "³;\u001c",
      "«à6ø\u0019FÜÀW©\u0013ï²l-l\u000eþ\u0011\u0019Ñ{Çgø¢\u0003H@éÓä@Tü©ý FAIL\n",
      "ò\u001aÕê<.ðù\n",
      "¢$ðTV¯:6Ñ-¹¹\u0018\u001d",
      "ülRÉFÀK½\u000b",
      "ö1\u0001Þo(gõ-(\u0000©t\\\u0007¼¶?N`íóèç²º\u001f^\u001f0¾}_1ö\u0017ëöAû·äW FAIL\n",
      "*áÈÂx}\bme\u0017[\u0012\u0006\u0011ó)ÝéF-EÛÜ^¿£\u000b",
      "¿Ç(²õ\n",
      "kHu\\5¿¸U FAIL\n",
      "\u0006©\u0014Îx,ÄûO",
      "P\u001d",
      "2áe¬bÓÔ\u001e",
      "v]ûrEIçñg\r",
      "¬Z\u0007[ª&>7\u00048Iö\n",
      "4è5\u0016ë#\f",
      "ÖiÎ$ø^Üø01Zí³Ú i\u0002xÖ»s+J\u0006u FAIL\n",
      "J\u001a\u0012ñ\u00078²MYzÍô4'ìÉdÌ\n",
      "Åµôñ\u0014Çy\u0004T­KÃO\u0004· FAIL\n",
      "\u0000\u00173\u0011Ó\u001c",
      "\u0000ý\u0001î'o©\u0004JÜÜøÑ ¶ùðr¨ñÉ\u0004-r¬×EÌlÏ^©M®\n",
      "lÞiSØbà\t\u0016Qôd\u001b\u0007]Þêð\u0002- FAIL\n",
      "?ò¢\u001e",
      "xnòDµz<éýð]¦lD\u001f'[^\u0006á\n",
      "§Î+\u0017tBõö5{a;ì4(ÌvÖk$æ\u000b",
      "éÌLÏT:ÊÅ\bÉ¾i¶é\u0013¥¯TÑ\u0010a FAIL\n",
      "2í%UÛ\n",
      "f¯àí_^ie¬q03/\u001a):\u0013c¤ËñòïÀY·cîNo~à\u0019ÜÅW¸¬¦\u0016rJ¬lPÔ8d~ ²L'\u0007F\u0017\u000e³I",
      "\u001fèk>÷ßÙ%p\t:\u0002i@¬Î®\u001aæR\u0019À FAIL\n",
      "È¸kl?G4\n",
      "Î´s½$â\n",
      "Ks&\u001d",
      "G#){ä1? FAIL\n",
      "75¹¹*ÈÊ\u000f¤«\"\u0001Á=[ìÈl½\n",
      "ÑÎ\r",
      "K\u0014°,q!ð\u001d",
      "wÓãÔ\t>\u001e",
      "5Ïwà.W³Ç+yæ0ì22`M\u000b",
      "Êäzû\r",
      "ÜõÞÄ¡½ FAIL\n",
      "¤?Xt\u001bS¹m:æA´j/=Q8%b1Bµt]»Â\n",
      "Ö¶Ô'VWc",
      "-­-çé\n",
      "W©czèxÖ!] FAIL\n",
      "*b\n",
      "øAÄ-\f",
      "ÙN+ß FAIL\n",
      "­VÛz[Wt1\u0005Ô%lÊ1\n",
      "ü\u0014:ÍóÏøÉq«´hqÐâ±ºCÎ¦ôkp]Q×tt,Ëòu5a\n",
      "W¹ôOá\u0007H\u0005P\u0018\u0005{y$,\u00196\u0004ÐöcÆ>ýA1=eü¿Ù\u0017e FAIL\n",
      "ÉÖ\u0010]Ù£E:P\u0000°«u2\"ñ§\u0002\u0011.m.òôò­cìsÂ\n",
      "âàöÎFðÖ*Þ\u0015±$1 FAIL\n",
      "2ùd\u0005v21ÞWû\n",
      "¯¨#q\"±Ìo6-öÞ9ÃçìuxR FAIL\n",
      "0­_úË5\u0002!?e\u0018\u0006ùã½x\u0015¸\u0000@ßäR\u000f\u0016*3Z\\ý¥\n",
      "9]6>~0 FAIL\n",
      "Î½7ëôDÜ¬»TcÀLQÐË\n",
      "¨õ*©CG¢?;",
      "sv.¿aª+âÕ´\u0015A×÷,Ê FAIL\n",
      "ºüA×ÔËX\u0010Ä\u0005S{µêÖ\u0005(âÑ!<H\u0019¼\u000e¥\u0014 ·CÑÌö8Æxá\n",
      "+)#X\u000ey\r",
      "ê/ið5³3\u001a«\u0015vþ\"ä FAIL\n",
      "Rç\n",
      "\u000b",
      "î\u001d",
      "õ FAIL\n",
      "8êðSñnã=,\u00150/v#¶ÚpU=Ê%ü× \n",
      "æv¼ª³\u0004fÐô_ò¼Lsp",
      "0\u0014a\u0001Ç\u0007ýv\u000f\u001c",
      "úI\n",
      "·> FAIL\n",
      "ø±-Ñ«à(\u0000y)Þµµ6eÇÛ!^bvàm¬7À£y\u001e",
      "èÌ:\u0002\\D\t\u0010*\u0013\u0000P\u0012'fy%\u000b",
      "\u000fÐ\n",
      "= FAIL\n",
      "ë\u000fG\\7å¦ÖÕk Ä*uQx_\u0011)\u0014\u0003\u001fâÕà½\u000e[:ý|î\f",
      "Áë\u000fÄÈ¤\u001aÜ´\u0014°>^òÚiÛ6°òqÖ\u0000ð\n",
      "rØëu#W\u0012Ùü\u001e",
      "V,á°½E¥\n",
      "' FAIL\n",
      "p5j\u0006Õ-áq|ú=\u0010!Ï?Q\u000eü\u0003Â,\u0015a+\u0018Iá6\u0006Uè\n",
      "¡Á'§Â\u000b",
      " Åä FAIL\n",
      "\u0016OÍ\u001aé}¤\n",
      "YA¤s;O·V\u001e",
      "ñ/n©àH%\u000foèðX¡ãð¼]=cÇoY6ÁQqlERe¥¼\u001an@ìuF¨ìù÷éó¾PdeÐà\u0005",
      "~®ë ú\u0005Ò\b¯¢Uò£E FAIL\n",
      "\u0003´·\u0007O«\n",
      "6m¡Ëi&ÌØô\t[þ/\\±¤6¡~¸6Ç\u001añàYæ\u0000Oô¢8º\u001aÀ9¢\u0015SäN#8\u000b",
      "W«É FAIL\n",
      "kÔ(ròáEb:K\u0007#jÒ\u0015Kb§\u0015Á<ö¤x#~:çb£%)\n",
      "½è_V°®,\u0003C{­`Z\u00026toë\u0010 a@É¹ FAIL\n",
      "The ratio of failes is 0.06313131313131314\n",
      "The ratio of unresolved cases is 0.0\n"
     ]
    }
   ],
   "source": [
    "troff_bin = BinaryProgramRunner(program=\"troff\")\n",
    "\n",
    "passes = 0\n",
    "failes = 0\n",
    "nan = 0\n",
    "\n",
    "while (failes != 50):\n",
    "    (result, outcome) = troff_fuzzing.run(random_fuzzer.fuzz())\n",
    "    if outcome == \"FAIL\":\n",
    "        print(result, outcome)\n",
    "        failes += 1\n",
    "    elif outcome == \"PASS\":\n",
    "        passes += 1\n",
    "    elif outcome == \"UNRESOLVED\":\n",
    "        nan += 1\n",
    "\n",
    "print(\"The ratio of failes is \" + str(failes / (failes + passes + nan)))\n",
    "print(\"The ratio of unresolved cases is \" + str(nan / (failes + passes + nan)))"
   ]
  }
 ],
 "metadata": {
  "kernelspec": {
   "display_name": "Python 3 (ipykernel)",
   "language": "python",
   "name": "python3"
  },
  "language_info": {
   "codemirror_mode": {
    "name": "ipython",
    "version": 3
   },
   "file_extension": ".py",
   "mimetype": "text/x-python",
   "name": "python",
   "nbconvert_exporter": "python",
   "pygments_lexer": "ipython3",
   "version": "3.10.6"
  }
 },
 "nbformat": 4,
 "nbformat_minor": 5
}
