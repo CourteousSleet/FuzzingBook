{
 "cells": [
  {
   "cell_type": "code",
   "execution_count": 2,
   "id": "6e58de10",
   "metadata": {},
   "outputs": [],
   "source": [
    "import sys\n",
    "\n",
    "sys.path.append( '/home/sedley/Work/FuzzingBook/fuzzingbook/notebooks/' )\n",
    "\n",
    "import bookutils"
   ]
  },
  {
   "cell_type": "code",
   "execution_count": 3,
   "id": "5decac46",
   "metadata": {},
   "outputs": [],
   "source": [
    "def cgi_decode(s: str) -> str:\n",
    "    \"\"\"Decode the CGI-encoded string `s`:\n",
    "       * replace '+' by ' '\n",
    "       * replace \"%xx\" by the character with hex number xx.\n",
    "       Return the decoded string.  Raise `ValueError` for invalid inputs.\"\"\"\n",
    "\n",
    "    # Mapping of hex digits to their integer values\n",
    "    hex_values = {\n",
    "        '0': 0, '1': 1, '2': 2, '3': 3, '4': 4,\n",
    "        '5': 5, '6': 6, '7': 7, '8': 8, '9': 9,\n",
    "        'a': 10, 'b': 11, 'c': 12, 'd': 13, 'e': 14, 'f': 15,\n",
    "        'A': 10, 'B': 11, 'C': 12, 'D': 13, 'E': 14, 'F': 15,\n",
    "    }\n",
    "\n",
    "    t = \"\"\n",
    "    i = 0\n",
    "    while i < len(s):\n",
    "        c = s[i]\n",
    "        if c == '+':\n",
    "            t += ' '\n",
    "        elif c == '%':\n",
    "            digit_high, digit_low = s[i + 1], s[i + 2]\n",
    "            i += 2\n",
    "            if digit_high in hex_values and digit_low in hex_values:\n",
    "                v = hex_values[digit_high] * 16 + hex_values[digit_low]\n",
    "                t += chr(v)\n",
    "            else:\n",
    "                raise ValueError(\"Invalid encoding\")\n",
    "        else:\n",
    "            t += c\n",
    "        i += 1\n",
    "    return t"
   ]
  },
  {
   "cell_type": "code",
   "execution_count": 4,
   "id": "f242ed27",
   "metadata": {},
   "outputs": [
    {
     "data": {
      "text/plain": [
       "'Hello world'"
      ]
     },
     "execution_count": 4,
     "metadata": {},
     "output_type": "execute_result"
    }
   ],
   "source": [
    "cgi_decode(\"Hello+world\")"
   ]
  },
  {
   "cell_type": "code",
   "execution_count": 5,
   "id": "7a0902ed",
   "metadata": {},
   "outputs": [],
   "source": [
    "assert cgi_decode('+') == ' '\n",
    "assert cgi_decode('%20') == ' '\n",
    "assert cgi_decode('abc') == 'abc'\n",
    "\n",
    "try:\n",
    "    cgi_decode('%?a')\n",
    "    assert False\n",
    "except ValueError:\n",
    "    pass"
   ]
  },
  {
   "cell_type": "code",
   "execution_count": 6,
   "id": "9d1a0497",
   "metadata": {},
   "outputs": [
    {
     "data": {
      "text/plain": [
       "'a b'"
      ]
     },
     "execution_count": 6,
     "metadata": {},
     "output_type": "execute_result"
    }
   ],
   "source": [
    "cgi_decode(\"a+b\")"
   ]
  },
  {
   "cell_type": "code",
   "execution_count": 7,
   "id": "1fa0b620",
   "metadata": {},
   "outputs": [],
   "source": [
    "from types import FrameType, TracebackType\n",
    "from typing import Optional, Callable, Tuple, Any, Type, List, Set"
   ]
  },
  {
   "cell_type": "code",
   "execution_count": 8,
   "id": "021e1dff",
   "metadata": {},
   "outputs": [],
   "source": [
    "coverage = []\n",
    "\n",
    "def traceit(frame: FrameType, event: str, arg: Any) -> Optional[Callable]:\n",
    "    \"\"\"Trace program execution. To be passed to sys.settrace().\"\"\"\n",
    "    if event == 'line':\n",
    "        global coverage\n",
    "        function_name = frame.f_code.co_name\n",
    "        lineno = frame.f_lineno\n",
    "        coverage.append(lineno)\n",
    "\n",
    "    return traceit"
   ]
  },
  {
   "cell_type": "code",
   "execution_count": 9,
   "id": "21985e84",
   "metadata": {},
   "outputs": [],
   "source": [
    "def cgi_decode_traced(s: str) -> None:\n",
    "    global coverage\n",
    "    coverage = []\n",
    "    sys.settrace(traceit)  # Turn on\n",
    "    cgi_decode(s)\n",
    "    sys.settrace(None)    # Turn off"
   ]
  },
  {
   "cell_type": "code",
   "execution_count": 10,
   "id": "a298be27",
   "metadata": {},
   "outputs": [
    {
     "name": "stdout",
     "output_type": "stream",
     "text": [
      "[8, 9, 8, 9, 8, 9, 8, 9, 8, 9, 8, 10, 8, 10, 8, 10, 8, 10, 8, 10, 8, 11, 8, 11, 8, 11, 8, 11, 8, 11, 8, 11, 8, 12, 8, 12, 8, 15, 16, 17, 18, 19, 21, 30, 31, 17, 18, 19, 20, 31, 17, 18, 19, 21, 30, 31, 17, 32]\n"
     ]
    }
   ],
   "source": [
    "cgi_decode_traced(\"a+b\")\n",
    "print(coverage)"
   ]
  },
  {
   "cell_type": "code",
   "execution_count": 11,
   "id": "841d8772",
   "metadata": {},
   "outputs": [],
   "source": [
    "import inspect"
   ]
  },
  {
   "cell_type": "code",
   "execution_count": 12,
   "id": "dbffcf03",
   "metadata": {},
   "outputs": [],
   "source": [
    "cgi_decode_code = inspect.getsource(cgi_decode)"
   ]
  },
  {
   "cell_type": "code",
   "execution_count": 13,
   "id": "69eb2b15",
   "metadata": {},
   "outputs": [],
   "source": [
    "from bookutils import print_content, print_file"
   ]
  },
  {
   "cell_type": "code",
   "execution_count": 14,
   "id": "cb28ee74",
   "metadata": {},
   "outputs": [
    {
     "name": "stdout",
     "output_type": "stream",
     "text": [
      "\u001b[34mdef\u001b[39;49;00m \u001b[32mcgi_decode\u001b[39;49;00m(s: \u001b[36mstr\u001b[39;49;00m) -> \u001b[36mstr\u001b[39;49;00m:\u001b[37m\u001b[39;49;00m\n",
      "\u001b[37m    \u001b[39;49;00m\u001b[33m\"\"\"Decode the CGI-encoded string `s`:\u001b[39;49;00m\n",
      "\u001b[33m       * replace '+' by ' '\u001b[39;49;00m\n",
      "\u001b[33m       * replace \"%xx\" by the character with hex number xx.\u001b[39;49;00m\n",
      "\u001b[33m       Return the decoded string.  Raise `ValueError` for invalid inputs.\"\"\"\u001b[39;49;00m\u001b[37m\u001b[39;49;00m\n",
      "\u001b[37m\u001b[39;49;00m\n",
      "    \u001b[37m# Mapping of hex digits to their integer values\u001b[39;49;00m\u001b[37m\u001b[39;49;00m\n",
      "    hex_v...\u001b[37m\u001b[39;49;00m"
     ]
    }
   ],
   "source": [
    "print_content(cgi_decode_code[:300] + \"...\", \".py\")"
   ]
  },
  {
   "cell_type": "code",
   "execution_count": 15,
   "id": "77e7d3db",
   "metadata": {},
   "outputs": [],
   "source": [
    "cgi_decode_lines = [\"\"] + cgi_decode_code.splitlines()"
   ]
  },
  {
   "cell_type": "code",
   "execution_count": 16,
   "id": "2eefabc3",
   "metadata": {},
   "outputs": [
    {
     "data": {
      "text/plain": [
       "'def cgi_decode(s: str) -> str:'"
      ]
     },
     "execution_count": 16,
     "metadata": {},
     "output_type": "execute_result"
    }
   ],
   "source": [
    "cgi_decode_lines[1]"
   ]
  },
  {
   "cell_type": "code",
   "execution_count": 17,
   "id": "19f11ff2",
   "metadata": {},
   "outputs": [
    {
     "data": {
      "text/plain": [
       "[\"        '0': 0, '1': 1, '2': 2, '3': 3, '4': 4,\",\n",
       " \"        '5': 5, '6': 6, '7': 7, '8': 8, '9': 9,\",\n",
       " \"        'a': 10, 'b': 11, 'c': 12, 'd': 13, 'e': 14, 'f': 15,\",\n",
       " \"        'A': 10, 'B': 11, 'C': 12, 'D': 13, 'E': 14, 'F': 15,\"]"
      ]
     },
     "execution_count": 17,
     "metadata": {},
     "output_type": "execute_result"
    }
   ],
   "source": [
    "cgi_decode_lines[9:13]"
   ]
  },
  {
   "cell_type": "code",
   "execution_count": 18,
   "id": "33c43a74",
   "metadata": {},
   "outputs": [
    {
     "data": {
      "text/plain": [
       "'    t = \"\"'"
      ]
     },
     "execution_count": 18,
     "metadata": {},
     "output_type": "execute_result"
    }
   ],
   "source": [
    "cgi_decode_lines[15]"
   ]
  },
  {
   "cell_type": "code",
   "execution_count": 19,
   "id": "e38d4086",
   "metadata": {},
   "outputs": [
    {
     "name": "stdout",
     "output_type": "stream",
     "text": [
      "{32, 8, 9, 10, 11, 12, 15, 16, 17, 18, 19, 20, 21, 30, 31}\n"
     ]
    }
   ],
   "source": [
    "covered_lines = set(coverage)\n",
    "print(covered_lines)"
   ]
  },
  {
   "cell_type": "code",
   "execution_count": 20,
   "id": "ff4f640a",
   "metadata": {},
   "outputs": [
    {
     "name": "stdout",
     "output_type": "stream",
     "text": [
      "#  1  \u001b[34mdef\u001b[39;49;00m \u001b[32mcgi_decode\u001b[39;49;00m(s: \u001b[36mstr\u001b[39;49;00m) -> \u001b[36mstr\u001b[39;49;00m:\u001b[37m\u001b[39;49;00m\n",
      "#  2      \u001b[33m\"\"\"\u001b[39;49;00m\u001b[33mDecode the CGI-encoded string `s`:\u001b[39;49;00m\u001b[33m\u001b[39;49;00m\n",
      "#  3         * replace \u001b[33m'\u001b[39;49;00m\u001b[33m+\u001b[39;49;00m\u001b[33m'\u001b[39;49;00m by \u001b[33m'\u001b[39;49;00m\u001b[33m \u001b[39;49;00m\u001b[33m'\u001b[39;49;00m\u001b[37m\u001b[39;49;00m\n",
      "#  4         * replace \u001b[33m\"\u001b[39;49;00m\u001b[33m%x\u001b[39;49;00m\u001b[33mx\u001b[39;49;00m\u001b[33m\"\u001b[39;49;00m by the character \u001b[34mwith\u001b[39;49;00m \u001b[36mhex\u001b[39;49;00m number xx.\u001b[37m\u001b[39;49;00m\n",
      "#  5         Return the decoded string.  Raise \u001b[04m\u001b[91m`\u001b[39;49;00m\u001b[36mValueError\u001b[39;49;00m\u001b[04m\u001b[91m`\u001b[39;49;00m \u001b[34mfor\u001b[39;49;00m invalid inputs.\u001b[33m\"\"\"\u001b[39;49;00m\u001b[33m\u001b[39;49;00m\n",
      "#  6  \u001b[37m\u001b[39;49;00m\n",
      "#  7      \u001b[37m# Mapping of hex digits to their integer values\u001b[39;49;00m\u001b[37m\u001b[39;49;00m\n",
      "   8      hex_values = {\u001b[37m\u001b[39;49;00m\n",
      "   9          \u001b[33m'\u001b[39;49;00m\u001b[33m0\u001b[39;49;00m\u001b[33m'\u001b[39;49;00m: \u001b[34m0\u001b[39;49;00m, \u001b[33m'\u001b[39;49;00m\u001b[33m1\u001b[39;49;00m\u001b[33m'\u001b[39;49;00m: \u001b[34m1\u001b[39;49;00m, \u001b[33m'\u001b[39;49;00m\u001b[33m2\u001b[39;49;00m\u001b[33m'\u001b[39;49;00m: \u001b[34m2\u001b[39;49;00m, \u001b[33m'\u001b[39;49;00m\u001b[33m3\u001b[39;49;00m\u001b[33m'\u001b[39;49;00m: \u001b[34m3\u001b[39;49;00m, \u001b[33m'\u001b[39;49;00m\u001b[33m4\u001b[39;49;00m\u001b[33m'\u001b[39;49;00m: \u001b[34m4\u001b[39;49;00m,\u001b[37m\u001b[39;49;00m\n",
      "  10          \u001b[33m'\u001b[39;49;00m\u001b[33m5\u001b[39;49;00m\u001b[33m'\u001b[39;49;00m: \u001b[34m5\u001b[39;49;00m, \u001b[33m'\u001b[39;49;00m\u001b[33m6\u001b[39;49;00m\u001b[33m'\u001b[39;49;00m: \u001b[34m6\u001b[39;49;00m, \u001b[33m'\u001b[39;49;00m\u001b[33m7\u001b[39;49;00m\u001b[33m'\u001b[39;49;00m: \u001b[34m7\u001b[39;49;00m, \u001b[33m'\u001b[39;49;00m\u001b[33m8\u001b[39;49;00m\u001b[33m'\u001b[39;49;00m: \u001b[34m8\u001b[39;49;00m, \u001b[33m'\u001b[39;49;00m\u001b[33m9\u001b[39;49;00m\u001b[33m'\u001b[39;49;00m: \u001b[34m9\u001b[39;49;00m,\u001b[37m\u001b[39;49;00m\n",
      "  11          \u001b[33m'\u001b[39;49;00m\u001b[33ma\u001b[39;49;00m\u001b[33m'\u001b[39;49;00m: \u001b[34m10\u001b[39;49;00m, \u001b[33m'\u001b[39;49;00m\u001b[33mb\u001b[39;49;00m\u001b[33m'\u001b[39;49;00m: \u001b[34m11\u001b[39;49;00m, \u001b[33m'\u001b[39;49;00m\u001b[33mc\u001b[39;49;00m\u001b[33m'\u001b[39;49;00m: \u001b[34m12\u001b[39;49;00m, \u001b[33m'\u001b[39;49;00m\u001b[33md\u001b[39;49;00m\u001b[33m'\u001b[39;49;00m: \u001b[34m13\u001b[39;49;00m, \u001b[33m'\u001b[39;49;00m\u001b[33me\u001b[39;49;00m\u001b[33m'\u001b[39;49;00m: \u001b[34m14\u001b[39;49;00m, \u001b[33m'\u001b[39;49;00m\u001b[33mf\u001b[39;49;00m\u001b[33m'\u001b[39;49;00m: \u001b[34m15\u001b[39;49;00m,\u001b[37m\u001b[39;49;00m\n",
      "  12          \u001b[33m'\u001b[39;49;00m\u001b[33mA\u001b[39;49;00m\u001b[33m'\u001b[39;49;00m: \u001b[34m10\u001b[39;49;00m, \u001b[33m'\u001b[39;49;00m\u001b[33mB\u001b[39;49;00m\u001b[33m'\u001b[39;49;00m: \u001b[34m11\u001b[39;49;00m, \u001b[33m'\u001b[39;49;00m\u001b[33mC\u001b[39;49;00m\u001b[33m'\u001b[39;49;00m: \u001b[34m12\u001b[39;49;00m, \u001b[33m'\u001b[39;49;00m\u001b[33mD\u001b[39;49;00m\u001b[33m'\u001b[39;49;00m: \u001b[34m13\u001b[39;49;00m, \u001b[33m'\u001b[39;49;00m\u001b[33mE\u001b[39;49;00m\u001b[33m'\u001b[39;49;00m: \u001b[34m14\u001b[39;49;00m, \u001b[33m'\u001b[39;49;00m\u001b[33mF\u001b[39;49;00m\u001b[33m'\u001b[39;49;00m: \u001b[34m15\u001b[39;49;00m,\u001b[37m\u001b[39;49;00m\n",
      "# 13      }\u001b[37m\u001b[39;49;00m\n",
      "# 14  \u001b[37m\u001b[39;49;00m\n",
      "  15      t = \u001b[33m\"\u001b[39;49;00m\u001b[33m\"\u001b[39;49;00m\u001b[37m\u001b[39;49;00m\n",
      "  16      i = \u001b[34m0\u001b[39;49;00m\u001b[37m\u001b[39;49;00m\n",
      "  17      \u001b[34mwhile\u001b[39;49;00m i < \u001b[36mlen\u001b[39;49;00m(s):\u001b[37m\u001b[39;49;00m\n",
      "  18          c = s[i]\u001b[37m\u001b[39;49;00m\n",
      "  19          \u001b[34mif\u001b[39;49;00m c == \u001b[33m'\u001b[39;49;00m\u001b[33m+\u001b[39;49;00m\u001b[33m'\u001b[39;49;00m:\u001b[37m\u001b[39;49;00m\n",
      "  20              t += \u001b[33m'\u001b[39;49;00m\u001b[33m \u001b[39;49;00m\u001b[33m'\u001b[39;49;00m\u001b[37m\u001b[39;49;00m\n",
      "  21          \u001b[34melif\u001b[39;49;00m c == \u001b[33m'\u001b[39;49;00m\u001b[33m%\u001b[39;49;00m\u001b[33m'\u001b[39;49;00m:\u001b[37m\u001b[39;49;00m\n",
      "# 22              digit_high, digit_low = s[i + \u001b[34m1\u001b[39;49;00m], s[i + \u001b[34m2\u001b[39;49;00m]\u001b[37m\u001b[39;49;00m\n",
      "# 23              i += \u001b[34m2\u001b[39;49;00m\u001b[37m\u001b[39;49;00m\n",
      "# 24              \u001b[34mif\u001b[39;49;00m digit_high \u001b[35min\u001b[39;49;00m hex_values \u001b[35mand\u001b[39;49;00m digit_low \u001b[35min\u001b[39;49;00m hex_values:\u001b[37m\u001b[39;49;00m\n",
      "# 25                  v = hex_values[digit_high] * \u001b[34m16\u001b[39;49;00m + hex_values[digit_low]\u001b[37m\u001b[39;49;00m\n",
      "# 26                  t += \u001b[36mchr\u001b[39;49;00m(v)\u001b[37m\u001b[39;49;00m\n",
      "# 27              \u001b[34melse\u001b[39;49;00m:\u001b[37m\u001b[39;49;00m\n",
      "# 28                  \u001b[34mraise\u001b[39;49;00m \u001b[36mValueError\u001b[39;49;00m(\u001b[33m\"\u001b[39;49;00m\u001b[33mInvalid encoding\u001b[39;49;00m\u001b[33m\"\u001b[39;49;00m)\u001b[37m\u001b[39;49;00m\n",
      "# 29          \u001b[34melse\u001b[39;49;00m:\u001b[37m\u001b[39;49;00m\n",
      "  30              t += c\u001b[37m\u001b[39;49;00m\n",
      "  31          i += \u001b[34m1\u001b[39;49;00m\u001b[37m\u001b[39;49;00m\n",
      "  32      \u001b[34mreturn\u001b[39;49;00m t\u001b[37m\u001b[39;49;00m\n"
     ]
    }
   ],
   "source": [
    "for lineno in range(1, len(cgi_decode_lines)):\n",
    "    if lineno not in covered_lines:\n",
    "        print(\"# \", end=\"\")\n",
    "    else:\n",
    "        print(\"  \", end=\"\")\n",
    "    print(\"%2d  \" % lineno, end=\"\")\n",
    "    print_content(cgi_decode_lines[lineno], '.py')\n",
    "    print()"
   ]
  },
  {
   "cell_type": "code",
   "execution_count": 21,
   "id": "18e7fa4a",
   "metadata": {},
   "outputs": [
    {
     "ename": "NameError",
     "evalue": "name 'Coverage' is not defined",
     "output_type": "error",
     "traceback": [
      "\u001b[0;31m---------------------------------------------------------------------------\u001b[0m",
      "\u001b[0;31mNameError\u001b[0m                                 Traceback (most recent call last)",
      "\u001b[0;32m/tmp/ipykernel_7011/3705599090.py\u001b[0m in \u001b[0;36m<module>\u001b[0;34m\u001b[0m\n\u001b[0;32m----> 1\u001b[0;31m \u001b[0;32mwith\u001b[0m \u001b[0mCoverage\u001b[0m\u001b[0;34m(\u001b[0m\u001b[0;34m)\u001b[0m \u001b[0;32mas\u001b[0m \u001b[0mcov\u001b[0m\u001b[0;34m:\u001b[0m\u001b[0;34m\u001b[0m\u001b[0;34m\u001b[0m\u001b[0m\n\u001b[0m\u001b[1;32m      2\u001b[0m     \u001b[0mfunction_to_be_traced\u001b[0m\u001b[0;34m(\u001b[0m\u001b[0;34m)\u001b[0m\u001b[0;34m\u001b[0m\u001b[0;34m\u001b[0m\u001b[0m\n\u001b[1;32m      3\u001b[0m \u001b[0mc\u001b[0m \u001b[0;34m=\u001b[0m \u001b[0mcov\u001b[0m\u001b[0;34m.\u001b[0m\u001b[0mcoverage\u001b[0m\u001b[0;34m(\u001b[0m\u001b[0;34m)\u001b[0m\u001b[0;34m\u001b[0m\u001b[0;34m\u001b[0m\u001b[0m\n",
      "\u001b[0;31mNameError\u001b[0m: name 'Coverage' is not defined"
     ]
    }
   ],
   "source": [
    "with Coverage() as cov:\n",
    "    function_to_be_traced()\n",
    "c = cov.coverage()"
   ]
  },
  {
   "cell_type": "code",
   "execution_count": 22,
   "id": "5bf6eba6",
   "metadata": {},
   "outputs": [],
   "source": [
    "Location = Tuple[str, int]"
   ]
  },
  {
   "cell_type": "code",
   "execution_count": 23,
   "id": "2cc7564b",
   "metadata": {},
   "outputs": [],
   "source": [
    "class Coverage:\n",
    "    \"\"\"Track coverage within a `with` block. Use as\n",
    "    ```\n",
    "    with Coverage() as cov:\n",
    "        function_to_be_traced()\n",
    "    c = cov.coverage()\n",
    "    ```\n",
    "    \"\"\"\n",
    "\n",
    "    def __init__(self) -> None:\n",
    "        \"\"\"Constructor\"\"\"\n",
    "        self._trace: List[Location] = []\n",
    "\n",
    "    # Trace function\n",
    "    def traceit(self, frame: FrameType, event: str, arg: Any) -> Optional[Callable]:\n",
    "        \"\"\"Tracing function. To be overloaded in subclasses.\"\"\"\n",
    "        if self.original_trace_function is not None:\n",
    "            self.original_trace_function(frame, event, arg)\n",
    "\n",
    "        if event == \"line\":\n",
    "            function_name = frame.f_code.co_name\n",
    "            lineno = frame.f_lineno\n",
    "            if function_name != '__exit__':  # avoid tracing ourselves:\n",
    "                self._trace.append((function_name, lineno))\n",
    "\n",
    "        return self.traceit\n",
    "\n",
    "    def __enter__(self) -> Any:\n",
    "        \"\"\"Start of `with` block. Turn on tracing.\"\"\"\n",
    "        self.original_trace_function = sys.gettrace()\n",
    "        sys.settrace(self.traceit)\n",
    "        return self\n",
    "\n",
    "    def __exit__(self, exc_type: Type, exc_value: BaseException, \n",
    "                 tb: TracebackType) -> Optional[bool]:\n",
    "        \"\"\"End of `with` block. Turn off tracing.\"\"\"\n",
    "        sys.settrace(self.original_trace_function)\n",
    "        return None  # default: pass all exceptions\n",
    "\n",
    "    def trace(self) -> List[Location]:\n",
    "        \"\"\"The list of executed lines, as (function_name, line_number) pairs\"\"\"\n",
    "        return self._trace\n",
    "\n",
    "    def coverage(self) -> Set[Location]:\n",
    "        \"\"\"The set of executed lines, as (function_name, line_number) pairs\"\"\"\n",
    "        return set(self.trace())\n",
    "\n",
    "    def function_names(self) -> Set[str]:\n",
    "        \"\"\"The set of function names seen\"\"\"\n",
    "        return set(function_name for (function_name, line_number) in self.coverage())\n",
    "\n",
    "    def __repr__(self) -> str:\n",
    "        \"\"\"Return a string representation of this object.\n",
    "           Show covered (and uncovered) program code\"\"\"\n",
    "        t = \"\"\n",
    "        for function_name in self.function_names():\n",
    "            # Similar code as in the example above\n",
    "            try:\n",
    "                fun = eval(function_name)\n",
    "            except Exception as exc:\n",
    "                t += f\"Skipping {function_name}: {exc}\"\n",
    "                continue\n",
    "\n",
    "            source_lines, start_line_number = inspect.getsourcelines(fun)\n",
    "            for lineno in range(start_line_number, start_line_number + len(source_lines)):\n",
    "                if (function_name, lineno) in self.trace():\n",
    "                    t += \"# \"\n",
    "                else:\n",
    "                    t += \"  \"\n",
    "                t += \"%2d  \" % lineno\n",
    "                t += source_lines[lineno - start_line_number]\n",
    "\n",
    "        return t"
   ]
  },
  {
   "cell_type": "code",
   "execution_count": 24,
   "id": "d4b94419",
   "metadata": {},
   "outputs": [
    {
     "name": "stdout",
     "output_type": "stream",
     "text": [
      "{('cgi_decode', 9), ('cgi_decode', 15), ('cgi_decode', 12), ('cgi_decode', 18), ('cgi_decode', 8), ('cgi_decode', 31), ('cgi_decode', 21), ('cgi_decode', 11), ('cgi_decode', 17), ('cgi_decode', 30), ('cgi_decode', 20), ('cgi_decode', 10), ('cgi_decode', 32), ('cgi_decode', 16), ('cgi_decode', 19)}\n"
     ]
    }
   ],
   "source": [
    "with Coverage() as cov:\n",
    "    cgi_decode(\"a+b\")\n",
    "\n",
    "print(cov.coverage())"
   ]
  },
  {
   "cell_type": "code",
   "execution_count": 25,
   "id": "bdff4dba",
   "metadata": {},
   "outputs": [
    {
     "name": "stdout",
     "output_type": "stream",
     "text": [
      "   1  def cgi_decode(s: str) -> str:\n",
      "   2      \"\"\"Decode the CGI-encoded string `s`:\n",
      "   3         * replace '+' by ' '\n",
      "   4         * replace \"%xx\" by the character with hex number xx.\n",
      "   5         Return the decoded string.  Raise `ValueError` for invalid inputs.\"\"\"\n",
      "   6  \n",
      "   7      # Mapping of hex digits to their integer values\n",
      "#  8      hex_values = {\n",
      "#  9          '0': 0, '1': 1, '2': 2, '3': 3, '4': 4,\n",
      "# 10          '5': 5, '6': 6, '7': 7, '8': 8, '9': 9,\n",
      "# 11          'a': 10, 'b': 11, 'c': 12, 'd': 13, 'e': 14, 'f': 15,\n",
      "# 12          'A': 10, 'B': 11, 'C': 12, 'D': 13, 'E': 14, 'F': 15,\n",
      "  13      }\n",
      "  14  \n",
      "# 15      t = \"\"\n",
      "# 16      i = 0\n",
      "# 17      while i < len(s):\n",
      "# 18          c = s[i]\n",
      "# 19          if c == '+':\n",
      "# 20              t += ' '\n",
      "# 21          elif c == '%':\n",
      "  22              digit_high, digit_low = s[i + 1], s[i + 2]\n",
      "  23              i += 2\n",
      "  24              if digit_high in hex_values and digit_low in hex_values:\n",
      "  25                  v = hex_values[digit_high] * 16 + hex_values[digit_low]\n",
      "  26                  t += chr(v)\n",
      "  27              else:\n",
      "  28                  raise ValueError(\"Invalid encoding\")\n",
      "  29          else:\n",
      "# 30              t += c\n",
      "# 31          i += 1\n",
      "# 32      return t\n",
      "\n"
     ]
    }
   ],
   "source": [
    "print(cov)"
   ]
  },
  {
   "cell_type": "code",
   "execution_count": 26,
   "id": "81ee0c9d",
   "metadata": {},
   "outputs": [
    {
     "data": {
      "text/plain": [
       "{('cgi_decode', 20)}"
      ]
     },
     "execution_count": 26,
     "metadata": {},
     "output_type": "execute_result"
    }
   ],
   "source": [
    "with Coverage() as cov_plus:\n",
    "    cgi_decode(\"a+b\")\n",
    "with Coverage() as cov_standard:\n",
    "    cgi_decode(\"abc\")\n",
    "\n",
    "cov_plus.coverage() - cov_standard.coverage()"
   ]
  },
  {
   "cell_type": "code",
   "execution_count": 27,
   "id": "3b8273cf",
   "metadata": {},
   "outputs": [],
   "source": [
    "with Coverage() as cov_max:\n",
    "    cgi_decode('+')\n",
    "    cgi_decode('%20')\n",
    "    cgi_decode('abc')\n",
    "    try:\n",
    "        cgi_decode('%?a')\n",
    "    except Exception:\n",
    "        pass"
   ]
  },
  {
   "cell_type": "code",
   "execution_count": 28,
   "id": "5711cd94",
   "metadata": {},
   "outputs": [
    {
     "data": {
      "text/plain": [
       "{('cgi_decode', 22),\n",
       " ('cgi_decode', 23),\n",
       " ('cgi_decode', 24),\n",
       " ('cgi_decode', 25),\n",
       " ('cgi_decode', 26),\n",
       " ('cgi_decode', 28)}"
      ]
     },
     "execution_count": 28,
     "metadata": {},
     "output_type": "execute_result"
    }
   ],
   "source": [
    "cov_max.coverage() - cov_plus.coverage()"
   ]
  },
  {
   "cell_type": "code",
   "execution_count": 29,
   "id": "5227cfe2",
   "metadata": {},
   "outputs": [
    {
     "data": {
      "text/plain": [
       "'!7#%\"*#0=)$;%6*;>638:*>80\"=</>(/*:-(2<4 !:5*6856&?\"\"11<7+%<%7,4.8,*+&,,$,.\"'"
      ]
     },
     "execution_count": 29,
     "metadata": {},
     "output_type": "execute_result"
    }
   ],
   "source": [
    "from Fuzzer import fuzzer\n",
    "\n",
    "sample = fuzzer()\n",
    "sample"
   ]
  },
  {
   "cell_type": "code",
   "execution_count": 30,
   "id": "83e31ac7",
   "metadata": {},
   "outputs": [
    {
     "data": {
      "text/plain": [
       "{('cgi_decode', 8),\n",
       " ('cgi_decode', 9),\n",
       " ('cgi_decode', 10),\n",
       " ('cgi_decode', 11),\n",
       " ('cgi_decode', 12),\n",
       " ('cgi_decode', 15),\n",
       " ('cgi_decode', 16),\n",
       " ('cgi_decode', 17),\n",
       " ('cgi_decode', 18),\n",
       " ('cgi_decode', 19),\n",
       " ('cgi_decode', 21),\n",
       " ('cgi_decode', 22),\n",
       " ('cgi_decode', 23),\n",
       " ('cgi_decode', 24),\n",
       " ('cgi_decode', 28),\n",
       " ('cgi_decode', 30),\n",
       " ('cgi_decode', 31)}"
      ]
     },
     "execution_count": 30,
     "metadata": {},
     "output_type": "execute_result"
    }
   ],
   "source": [
    "with Coverage() as cov_fuzz:\n",
    "    try:\n",
    "        cgi_decode(sample)\n",
    "    except:\n",
    "        pass\n",
    "cov_fuzz.coverage()"
   ]
  },
  {
   "cell_type": "code",
   "execution_count": 31,
   "id": "3d5f8b53",
   "metadata": {},
   "outputs": [
    {
     "data": {
      "text/plain": [
       "{('cgi_decode', 20),\n",
       " ('cgi_decode', 25),\n",
       " ('cgi_decode', 26),\n",
       " ('cgi_decode', 32)}"
      ]
     },
     "execution_count": 31,
     "metadata": {},
     "output_type": "execute_result"
    }
   ],
   "source": [
    "cov_max.coverage() - cov_fuzz.coverage()"
   ]
  },
  {
   "cell_type": "code",
   "execution_count": 32,
   "id": "1214eeb6",
   "metadata": {},
   "outputs": [],
   "source": [
    "trials = 100\n",
    "\n",
    "def population_coverage(population: List[str], function: Callable) \\\n",
    "        -> Tuple[Set[Location], List[int]]:\n",
    "    cumulative_coverage: List[int] = []\n",
    "    all_coverage: Set[Location] = set()\n",
    "\n",
    "    for s in population:\n",
    "        with Coverage() as cov:\n",
    "            try:\n",
    "                function(s)\n",
    "            except:\n",
    "                pass\n",
    "        all_coverage |= cov.coverage()\n",
    "        cumulative_coverage.append(len(all_coverage))\n",
    "\n",
    "    return all_coverage, cumulative_coverage"
   ]
  },
  {
   "cell_type": "code",
   "execution_count": 33,
   "id": "447762c9",
   "metadata": {},
   "outputs": [],
   "source": [
    "def hundred_inputs() -> List[str]:\n",
    "    population = []\n",
    "    for i in range(trials):\n",
    "        population.append(fuzzer())\n",
    "    return population"
   ]
  },
  {
   "cell_type": "code",
   "execution_count": 34,
   "id": "422e9b38",
   "metadata": {},
   "outputs": [
    {
     "data": {
      "text/plain": [
       "Text(0, 0.5, 'lines covered')"
      ]
     },
     "execution_count": 34,
     "metadata": {},
     "output_type": "execute_result"
    },
    {
     "data": {
      "image/png": "[encoded data removed]",
      "text/plain": [
       "<Figure size 432x288 with 1 Axes>"
      ]
     },
     "metadata": {
      "needs_background": "light"
     },
     "output_type": "display_data"
    }
   ],
   "source": [
    "all_coverage, cumulative_coverage = \\\n",
    "    population_coverage(hundred_inputs(), cgi_decode)\n",
    "\n",
    "%matplotlib inline\n",
    "\n",
    "import matplotlib.pyplot as plt\n",
    "\n",
    "plt.plot(cumulative_coverage)\n",
    "plt.title('Coverage of cgi_decode() with random inputs')\n",
    "plt.xlabel('# of inputs')\n",
    "plt.ylabel('lines covered')"
   ]
  },
  {
   "cell_type": "code",
   "execution_count": 35,
   "id": "56a0b86c",
   "metadata": {},
   "outputs": [],
   "source": [
    "runs = 100\n",
    "\n",
    "# Create an array with TRIALS elements, all zero\n",
    "sum_coverage = [0] * trials\n",
    "\n",
    "for run in range(runs):\n",
    "    all_coverage, coverage = population_coverage(hundred_inputs(), cgi_decode)\n",
    "    assert len(coverage) == trials\n",
    "    for i in range(trials):\n",
    "        sum_coverage[i] += coverage[i]\n",
    "\n",
    "average_coverage = []\n",
    "for i in range(trials):\n",
    "    average_coverage.append(sum_coverage[i] / runs)"
   ]
  },
  {
   "cell_type": "code",
   "execution_count": 36,
   "id": "85bf42ba",
   "metadata": {},
   "outputs": [
    {
     "data": {
      "text/plain": [
       "Text(0, 0.5, 'lines covered')"
      ]
     },
     "execution_count": 36,
     "metadata": {},
     "output_type": "execute_result"
    },
    {
     "data": {
      "image/png": "[encoded data removed]",
      "text/plain": [
       "<Figure size 432x288 with 1 Axes>"
      ]
     },
     "metadata": {
      "needs_background": "light"
     },
     "output_type": "display_data"
    }
   ],
   "source": [
    "plt.plot(average_coverage)\n",
    "plt.title('Average coverage of cgi_decode() with random inputs')\n",
    "plt.xlabel('# of inputs')\n",
    "plt.ylabel('lines covered')"
   ]
  },
  {
   "cell_type": "code",
   "execution_count": 37,
   "id": "6706cdc9",
   "metadata": {},
   "outputs": [],
   "source": [
    "cgi_c_code = \"\"\"\n",
    "/* CGI decoding as C program */\n",
    "\n",
    "#include <stdlib.h>\n",
    "#include <string.h>\n",
    "#include <stdio.h>\n",
    "\n",
    "\"\"\""
   ]
  },
  {
   "cell_type": "code",
   "execution_count": 38,
   "id": "76e638a7",
   "metadata": {},
   "outputs": [],
   "source": [
    "cgi_c_code += r\"\"\"\n",
    "int hex_values[256];\n",
    "\n",
    "void init_hex_values() {\n",
    "    for (int i = 0; i < sizeof(hex_values) / sizeof(int); i++) {\n",
    "        hex_values[i] = -1;\n",
    "    }\n",
    "    hex_values['0'] = 0; hex_values['1'] = 1; hex_values['2'] = 2; hex_values['3'] = 3;\n",
    "    hex_values['4'] = 4; hex_values['5'] = 5; hex_values['6'] = 6; hex_values['7'] = 7;\n",
    "    hex_values['8'] = 8; hex_values['9'] = 9;\n",
    "\n",
    "    hex_values['a'] = 10; hex_values['b'] = 11; hex_values['c'] = 12; hex_values['d'] = 13;\n",
    "    hex_values['e'] = 14; hex_values['f'] = 15;\n",
    "\n",
    "    hex_values['A'] = 10; hex_values['B'] = 11; hex_values['C'] = 12; hex_values['D'] = 13;\n",
    "    hex_values['E'] = 14; hex_values['F'] = 15;\n",
    "}\n",
    "\"\"\""
   ]
  },
  {
   "cell_type": "code",
   "execution_count": 39,
   "id": "18404613",
   "metadata": {},
   "outputs": [],
   "source": [
    "cgi_c_code += r\"\"\"\n",
    "int cgi_decode(char *s, char *t) {\n",
    "    while (*s != '\\0') {\n",
    "        if (*s == '+')\n",
    "            *t++ = ' ';\n",
    "        else if (*s == '%') {\n",
    "            int digit_high = *++s;\n",
    "            int digit_low = *++s;\n",
    "            if (hex_values[digit_high] >= 0 && hex_values[digit_low] >= 0) {\n",
    "                *t++ = hex_values[digit_high] * 16 + hex_values[digit_low];\n",
    "            }\n",
    "            else\n",
    "                return -1;\n",
    "        }\n",
    "        else\n",
    "            *t++ = *s;\n",
    "        s++;\n",
    "    }\n",
    "    *t = '\\0';\n",
    "    return 0;\n",
    "}\n",
    "\"\"\""
   ]
  },
  {
   "cell_type": "code",
   "execution_count": 40,
   "id": "fe75688c",
   "metadata": {},
   "outputs": [],
   "source": [
    "cgi_c_code += r\"\"\"\n",
    "int main(int argc, char *argv[]) {\n",
    "    init_hex_values();\n",
    "\n",
    "    if (argc >= 2) {\n",
    "        char *s = argv[1];\n",
    "        char *t = malloc(strlen(s) + 1); /* output is at most as long as input */\n",
    "        int ret = cgi_decode(s, t);\n",
    "        printf(\"%s\\n\", t);\n",
    "        return ret;\n",
    "    }\n",
    "    else\n",
    "    {\n",
    "        printf(\"cgi_decode: usage: cgi_decode STRING\\n\");\n",
    "        return 1;\n",
    "    }\n",
    "}\n",
    "\"\"\""
   ]
  },
  {
   "cell_type": "code",
   "execution_count": 41,
   "id": "ec9da367",
   "metadata": {},
   "outputs": [],
   "source": [
    "with open(\"cgi_decode.c\", \"w\") as f:\n",
    "    f.write(cgi_c_code)"
   ]
  },
  {
   "cell_type": "code",
   "execution_count": 42,
   "id": "f9e8702e",
   "metadata": {},
   "outputs": [
    {
     "name": "stdout",
     "output_type": "stream",
     "text": [
      "\u001b[37m/* CGI decoding as C program */\u001b[39;49;00m\u001b[37m\u001b[39;49;00m\n",
      "\u001b[37m\u001b[39;49;00m\n",
      "\u001b[36m#\u001b[39;49;00m\u001b[36minclude\u001b[39;49;00m\u001b[37m \u001b[39;49;00m\u001b[37m<stdlib.h>\u001b[39;49;00m\u001b[36m\u001b[39;49;00m\n",
      "\u001b[36m#\u001b[39;49;00m\u001b[36minclude\u001b[39;49;00m\u001b[37m \u001b[39;49;00m\u001b[37m<string.h>\u001b[39;49;00m\u001b[36m\u001b[39;49;00m\n",
      "\u001b[36m#\u001b[39;49;00m\u001b[36minclude\u001b[39;49;00m\u001b[37m \u001b[39;49;00m\u001b[37m<stdio.h>\u001b[39;49;00m\u001b[36m\u001b[39;49;00m\n",
      "\u001b[37m\u001b[39;49;00m\n",
      "\u001b[37m\u001b[39;49;00m\n",
      "\u001b[36mint\u001b[39;49;00m\u001b[37m \u001b[39;49;00mhex_values[\u001b[34m256\u001b[39;49;00m];\u001b[37m\u001b[39;49;00m\n",
      "\u001b[37m\u001b[39;49;00m\n",
      "\u001b[36mvoid\u001b[39;49;00m\u001b[37m \u001b[39;49;00m\u001b[32minit_hex_values\u001b[39;49;00m()\u001b[37m \u001b[39;49;00m{\u001b[37m\u001b[39;49;00m\n",
      "\u001b[37m    \u001b[39;49;00m\u001b[34mfor\u001b[39;49;00m\u001b[37m \u001b[39;49;00m(\u001b[36mint\u001b[39;49;00m\u001b[37m \u001b[39;49;00mi\u001b[37m \u001b[39;49;00m=\u001b[37m \u001b[39;49;00m\u001b[34m0\u001b[39;49;00m;\u001b[37m \u001b[39;49;00mi\u001b[37m \u001b[39;49;00m<\u001b[37m \u001b[39;49;00m\u001b[34msizeof\u001b[39;49;00m(hex_values)\u001b[37m \u001b[39;49;00m/\u001b[37m \u001b[39;49;00m\u001b[34msizeof\u001b[39;49;00m(\u001b[36mint\u001b[39;49;00m);\u001b[37m \u001b[39;49;00mi++)\u001b[37m \u001b[39;49;00m{\u001b[37m\u001b[39;49;00m\n",
      "\u001b[37m        \u001b[39;49;00mhex_values[i]\u001b[37m \u001b[39;49;00m=\u001b[37m \u001b[39;49;00m\u001b[34m-1\u001b[39;49;00m;\u001b[37m\u001b[39;49;00m\n",
      "\u001b[37m    \u001b[39;49;00m}\u001b[37m\u001b[39;49;00m\n",
      "\u001b[37m    \u001b[39;49;00mhex_values[\u001b[33m'\u001b[39;49;00m\u001b[33m0\u001b[39;49;00m\u001b[33m'\u001b[39;49;00m]\u001b[37m \u001b[39;49;00m=\u001b[37m \u001b[39;49;00m\u001b[34m0\u001b[39;49;00m;\u001b[37m \u001b[39;49;00mhex_values[\u001b[33m'\u001b[39;49;00m\u001b[33m1\u001b[39;49;00m\u001b[33m'\u001b[39;49;00m]\u001b[37m \u001b[39;49;00m=\u001b[37m \u001b[39;49;00m\u001b[34m1\u001b[39;49;00m;\u001b[37m \u001b[39;49;00mhex_values[\u001b[33m'\u001b[39;49;00m\u001b[33m2\u001b[39;49;00m\u001b[33m'\u001b[39;49;00m]\u001b[37m \u001b[39;49;00m=\u001b[37m \u001b[39;49;00m\u001b[34m2\u001b[39;49;00m;\u001b[37m \u001b[39;49;00mhex_values[\u001b[33m'\u001b[39;49;00m\u001b[33m3\u001b[39;49;00m\u001b[33m'\u001b[39;49;00m]\u001b[37m \u001b[39;49;00m=\u001b[37m \u001b[39;49;00m\u001b[34m3\u001b[39;49;00m;\u001b[37m\u001b[39;49;00m\n",
      "\u001b[37m    \u001b[39;49;00mhex_values[\u001b[33m'\u001b[39;49;00m\u001b[33m4\u001b[39;49;00m\u001b[33m'\u001b[39;49;00m]\u001b[37m \u001b[39;49;00m=\u001b[37m \u001b[39;49;00m\u001b[34m4\u001b[39;49;00m;\u001b[37m \u001b[39;49;00mhex_values[\u001b[33m'\u001b[39;49;00m\u001b[33m5\u001b[39;49;00m\u001b[33m'\u001b[39;49;00m]\u001b[37m \u001b[39;49;00m=\u001b[37m \u001b[39;49;00m\u001b[34m5\u001b[39;49;00m;\u001b[37m \u001b[39;49;00mhex_values[\u001b[33m'\u001b[39;49;00m\u001b[33m6\u001b[39;49;00m\u001b[33m'\u001b[39;49;00m]\u001b[37m \u001b[39;49;00m=\u001b[37m \u001b[39;49;00m\u001b[34m6\u001b[39;49;00m;\u001b[37m \u001b[39;49;00mhex_values[\u001b[33m'\u001b[39;49;00m\u001b[33m7\u001b[39;49;00m\u001b[33m'\u001b[39;49;00m]\u001b[37m \u001b[39;49;00m=\u001b[37m \u001b[39;49;00m\u001b[34m7\u001b[39;49;00m;\u001b[37m\u001b[39;49;00m\n",
      "\u001b[37m    \u001b[39;49;00mhex_values[\u001b[33m'\u001b[39;49;00m\u001b[33m8\u001b[39;49;00m\u001b[33m'\u001b[39;49;00m]\u001b[37m \u001b[39;49;00m=\u001b[37m \u001b[39;49;00m\u001b[34m8\u001b[39;49;00m;\u001b[37m \u001b[39;49;00mhex_values[\u001b[33m'\u001b[39;49;00m\u001b[33m9\u001b[39;49;00m\u001b[33m'\u001b[39;49;00m]\u001b[37m \u001b[39;49;00m=\u001b[37m \u001b[39;49;00m\u001b[34m9\u001b[39;49;00m;\u001b[37m\u001b[39;49;00m\n",
      "\u001b[37m\u001b[39;49;00m\n",
      "\u001b[37m    \u001b[39;49;00mhex_values[\u001b[33m'\u001b[39;49;00m\u001b[33ma\u001b[39;49;00m\u001b[33m'\u001b[39;49;00m]\u001b[37m \u001b[39;49;00m=\u001b[37m \u001b[39;49;00m\u001b[34m10\u001b[39;49;00m;\u001b[37m \u001b[39;49;00mhex_values[\u001b[33m'\u001b[39;49;00m\u001b[33mb\u001b[39;49;00m\u001b[33m'\u001b[39;49;00m]\u001b[37m \u001b[39;49;00m=\u001b[37m \u001b[39;49;00m\u001b[34m11\u001b[39;49;00m;\u001b[37m \u001b[39;49;00mhex_values[\u001b[33m'\u001b[39;49;00m\u001b[33mc\u001b[39;49;00m\u001b[33m'\u001b[39;49;00m]\u001b[37m \u001b[39;49;00m=\u001b[37m \u001b[39;49;00m\u001b[34m12\u001b[39;49;00m;\u001b[37m \u001b[39;49;00mhex_values[\u001b[33m'\u001b[39;49;00m\u001b[33md\u001b[39;49;00m\u001b[33m'\u001b[39;49;00m]\u001b[37m \u001b[39;49;00m=\u001b[37m \u001b[39;49;00m\u001b[34m13\u001b[39;49;00m;\u001b[37m\u001b[39;49;00m\n",
      "\u001b[37m    \u001b[39;49;00mhex_values[\u001b[33m'\u001b[39;49;00m\u001b[33me\u001b[39;49;00m\u001b[33m'\u001b[39;49;00m]\u001b[37m \u001b[39;49;00m=\u001b[37m \u001b[39;49;00m\u001b[34m14\u001b[39;49;00m;\u001b[37m \u001b[39;49;00mhex_values[\u001b[33m'\u001b[39;49;00m\u001b[33mf\u001b[39;49;00m\u001b[33m'\u001b[39;49;00m]\u001b[37m \u001b[39;49;00m=\u001b[37m \u001b[39;49;00m\u001b[34m15\u001b[39;49;00m;\u001b[37m\u001b[39;49;00m\n",
      "\u001b[37m\u001b[39;49;00m\n",
      "\u001b[37m    \u001b[39;49;00mhex_values[\u001b[33m'\u001b[39;49;00m\u001b[33mA\u001b[39;49;00m\u001b[33m'\u001b[39;49;00m]\u001b[37m \u001b[39;49;00m=\u001b[37m \u001b[39;49;00m\u001b[34m10\u001b[39;49;00m;\u001b[37m \u001b[39;49;00mhex_values[\u001b[33m'\u001b[39;49;00m\u001b[33mB\u001b[39;49;00m\u001b[33m'\u001b[39;49;00m]\u001b[37m \u001b[39;49;00m=\u001b[37m \u001b[39;49;00m\u001b[34m11\u001b[39;49;00m;\u001b[37m \u001b[39;49;00mhex_values[\u001b[33m'\u001b[39;49;00m\u001b[33mC\u001b[39;49;00m\u001b[33m'\u001b[39;49;00m]\u001b[37m \u001b[39;49;00m=\u001b[37m \u001b[39;49;00m\u001b[34m12\u001b[39;49;00m;\u001b[37m \u001b[39;49;00mhex_values[\u001b[33m'\u001b[39;49;00m\u001b[33mD\u001b[39;49;00m\u001b[33m'\u001b[39;49;00m]\u001b[37m \u001b[39;49;00m=\u001b[37m \u001b[39;49;00m\u001b[34m13\u001b[39;49;00m;\u001b[37m\u001b[39;49;00m\n",
      "\u001b[37m    \u001b[39;49;00mhex_values[\u001b[33m'\u001b[39;49;00m\u001b[33mE\u001b[39;49;00m\u001b[33m'\u001b[39;49;00m]\u001b[37m \u001b[39;49;00m=\u001b[37m \u001b[39;49;00m\u001b[34m14\u001b[39;49;00m;\u001b[37m \u001b[39;49;00mhex_values[\u001b[33m'\u001b[39;49;00m\u001b[33mF\u001b[39;49;00m\u001b[33m'\u001b[39;49;00m]\u001b[37m \u001b[39;49;00m=\u001b[37m \u001b[39;49;00m\u001b[34m15\u001b[39;49;00m;\u001b[37m\u001b[39;49;00m\n",
      "}\u001b[37m\u001b[39;49;00m\n",
      "\u001b[37m\u001b[39;49;00m\n",
      "\u001b[36mint\u001b[39;49;00m\u001b[37m \u001b[39;49;00m\u001b[32mcgi_decode\u001b[39;49;00m(\u001b[36mchar\u001b[39;49;00m\u001b[37m \u001b[39;49;00m*s,\u001b[37m \u001b[39;49;00m\u001b[36mchar\u001b[39;49;00m\u001b[37m \u001b[39;49;00m*t)\u001b[37m \u001b[39;49;00m{\u001b[37m\u001b[39;49;00m\n",
      "\u001b[37m    \u001b[39;49;00m\u001b[34mwhile\u001b[39;49;00m\u001b[37m \u001b[39;49;00m(*s\u001b[37m \u001b[39;49;00m!=\u001b[37m \u001b[39;49;00m\u001b[33m'\u001b[39;49;00m\u001b[33m\\0\u001b[39;49;00m\u001b[33m'\u001b[39;49;00m)\u001b[37m \u001b[39;49;00m{\u001b[37m\u001b[39;49;00m\n",
      "\u001b[37m        \u001b[39;49;00m\u001b[34mif\u001b[39;49;00m\u001b[37m \u001b[39;49;00m(*s\u001b[37m \u001b[39;49;00m==\u001b[37m \u001b[39;49;00m\u001b[33m'\u001b[39;49;00m\u001b[33m+\u001b[39;49;00m\u001b[33m'\u001b[39;49;00m)\u001b[37m\u001b[39;49;00m\n",
      "\u001b[37m            \u001b[39;49;00m*t++\u001b[37m \u001b[39;49;00m=\u001b[37m \u001b[39;49;00m\u001b[33m'\u001b[39;49;00m\u001b[33m \u001b[39;49;00m\u001b[33m'\u001b[39;49;00m;\u001b[37m\u001b[39;49;00m\n",
      "\u001b[37m        \u001b[39;49;00m\u001b[34melse\u001b[39;49;00m\u001b[37m \u001b[39;49;00m\u001b[34mif\u001b[39;49;00m\u001b[37m \u001b[39;49;00m(*s\u001b[37m \u001b[39;49;00m==\u001b[37m \u001b[39;49;00m\u001b[33m'\u001b[39;49;00m\u001b[33m%\u001b[39;49;00m\u001b[33m'\u001b[39;49;00m)\u001b[37m \u001b[39;49;00m{\u001b[37m\u001b[39;49;00m\n",
      "\u001b[37m            \u001b[39;49;00m\u001b[36mint\u001b[39;49;00m\u001b[37m \u001b[39;49;00mdigit_high\u001b[37m \u001b[39;49;00m=\u001b[37m \u001b[39;49;00m*++s;\u001b[37m\u001b[39;49;00m\n",
      "\u001b[37m            \u001b[39;49;00m\u001b[36mint\u001b[39;49;00m\u001b[37m \u001b[39;49;00mdigit_low\u001b[37m \u001b[39;49;00m=\u001b[37m \u001b[39;49;00m*++s;\u001b[37m\u001b[39;49;00m\n",
      "\u001b[37m            \u001b[39;49;00m\u001b[34mif\u001b[39;49;00m\u001b[37m \u001b[39;49;00m(hex_values[digit_high]\u001b[37m \u001b[39;49;00m>=\u001b[37m \u001b[39;49;00m\u001b[34m0\u001b[39;49;00m\u001b[37m \u001b[39;49;00m&&\u001b[37m \u001b[39;49;00mhex_values[digit_low]\u001b[37m \u001b[39;49;00m>=\u001b[37m \u001b[39;49;00m\u001b[34m0\u001b[39;49;00m)\u001b[37m \u001b[39;49;00m{\u001b[37m\u001b[39;49;00m\n",
      "\u001b[37m                \u001b[39;49;00m*t++\u001b[37m \u001b[39;49;00m=\u001b[37m \u001b[39;49;00mhex_values[digit_high]\u001b[37m \u001b[39;49;00m*\u001b[37m \u001b[39;49;00m\u001b[34m16\u001b[39;49;00m\u001b[37m \u001b[39;49;00m+\u001b[37m \u001b[39;49;00mhex_values[digit_low];\u001b[37m\u001b[39;49;00m\n",
      "\u001b[37m            \u001b[39;49;00m}\u001b[37m\u001b[39;49;00m\n",
      "\u001b[37m            \u001b[39;49;00m\u001b[34melse\u001b[39;49;00m\u001b[37m\u001b[39;49;00m\n",
      "\u001b[37m                \u001b[39;49;00m\u001b[34mreturn\u001b[39;49;00m\u001b[37m \u001b[39;49;00m\u001b[34m-1\u001b[39;49;00m;\u001b[37m\u001b[39;49;00m\n",
      "\u001b[37m        \u001b[39;49;00m}\u001b[37m\u001b[39;49;00m\n",
      "\u001b[37m        \u001b[39;49;00m\u001b[34melse\u001b[39;49;00m\u001b[37m\u001b[39;49;00m\n",
      "\u001b[37m            \u001b[39;49;00m*t++\u001b[37m \u001b[39;49;00m=\u001b[37m \u001b[39;49;00m*s;\u001b[37m\u001b[39;49;00m\n",
      "\u001b[37m        \u001b[39;49;00ms++;\u001b[37m\u001b[39;49;00m\n",
      "\u001b[37m    \u001b[39;49;00m}\u001b[37m\u001b[39;49;00m\n",
      "\u001b[37m    \u001b[39;49;00m*t\u001b[37m \u001b[39;49;00m=\u001b[37m \u001b[39;49;00m\u001b[33m'\u001b[39;49;00m\u001b[33m\\0\u001b[39;49;00m\u001b[33m'\u001b[39;49;00m;\u001b[37m\u001b[39;49;00m\n",
      "\u001b[37m    \u001b[39;49;00m\u001b[34mreturn\u001b[39;49;00m\u001b[37m \u001b[39;49;00m\u001b[34m0\u001b[39;49;00m;\u001b[37m\u001b[39;49;00m\n",
      "}\u001b[37m\u001b[39;49;00m\n",
      "\u001b[37m\u001b[39;49;00m\n",
      "\u001b[36mint\u001b[39;49;00m\u001b[37m \u001b[39;49;00m\u001b[32mmain\u001b[39;49;00m(\u001b[36mint\u001b[39;49;00m\u001b[37m \u001b[39;49;00margc,\u001b[37m \u001b[39;49;00m\u001b[36mchar\u001b[39;49;00m\u001b[37m \u001b[39;49;00m*argv[])\u001b[37m \u001b[39;49;00m{\u001b[37m\u001b[39;49;00m\n",
      "\u001b[37m    \u001b[39;49;00minit_hex_values();\u001b[37m\u001b[39;49;00m\n",
      "\u001b[37m\u001b[39;49;00m\n",
      "\u001b[37m    \u001b[39;49;00m\u001b[34mif\u001b[39;49;00m\u001b[37m \u001b[39;49;00m(argc\u001b[37m \u001b[39;49;00m>=\u001b[37m \u001b[39;49;00m\u001b[34m2\u001b[39;49;00m)\u001b[37m \u001b[39;49;00m{\u001b[37m\u001b[39;49;00m\n",
      "\u001b[37m        \u001b[39;49;00m\u001b[36mchar\u001b[39;49;00m\u001b[37m \u001b[39;49;00m*s\u001b[37m \u001b[39;49;00m=\u001b[37m \u001b[39;49;00margv[\u001b[34m1\u001b[39;49;00m];\u001b[37m\u001b[39;49;00m\n",
      "\u001b[37m        \u001b[39;49;00m\u001b[36mchar\u001b[39;49;00m\u001b[37m \u001b[39;49;00m*t\u001b[37m \u001b[39;49;00m=\u001b[37m \u001b[39;49;00mmalloc(strlen(s)\u001b[37m \u001b[39;49;00m+\u001b[37m \u001b[39;49;00m\u001b[34m1\u001b[39;49;00m);\u001b[37m \u001b[39;49;00m\u001b[37m/* output is at most as long as input */\u001b[39;49;00m\u001b[37m\u001b[39;49;00m\n",
      "\u001b[37m        \u001b[39;49;00m\u001b[36mint\u001b[39;49;00m\u001b[37m \u001b[39;49;00mret\u001b[37m \u001b[39;49;00m=\u001b[37m \u001b[39;49;00mcgi_decode(s,\u001b[37m \u001b[39;49;00mt);\u001b[37m\u001b[39;49;00m\n",
      "\u001b[37m        \u001b[39;49;00mprintf(\u001b[33m\"\u001b[39;49;00m\u001b[33m%s\u001b[39;49;00m\u001b[33m\\n\u001b[39;49;00m\u001b[33m\"\u001b[39;49;00m,\u001b[37m \u001b[39;49;00mt);\u001b[37m\u001b[39;49;00m\n",
      "\u001b[37m        \u001b[39;49;00m\u001b[34mreturn\u001b[39;49;00m\u001b[37m \u001b[39;49;00mret;\u001b[37m\u001b[39;49;00m\n",
      "\u001b[37m    \u001b[39;49;00m}\u001b[37m\u001b[39;49;00m\n",
      "\u001b[37m    \u001b[39;49;00m\u001b[34melse\u001b[39;49;00m\u001b[37m\u001b[39;49;00m\n",
      "\u001b[37m    \u001b[39;49;00m{\u001b[37m\u001b[39;49;00m\n",
      "\u001b[37m        \u001b[39;49;00mprintf(\u001b[33m\"\u001b[39;49;00m\u001b[33mcgi_decode: usage: cgi_decode STRING\u001b[39;49;00m\u001b[33m\\n\u001b[39;49;00m\u001b[33m\"\u001b[39;49;00m);\u001b[37m\u001b[39;49;00m\n",
      "\u001b[37m        \u001b[39;49;00m\u001b[34mreturn\u001b[39;49;00m\u001b[37m \u001b[39;49;00m\u001b[34m1\u001b[39;49;00m;\u001b[37m\u001b[39;49;00m\n",
      "\u001b[37m    \u001b[39;49;00m}\u001b[37m\u001b[39;49;00m\n",
      "}\u001b[37m\u001b[39;49;00m"
     ]
    }
   ],
   "source": [
    "from bookutils import print_file\n",
    "\n",
    "print_file(\"cgi_decode.c\")"
   ]
  },
  {
   "cell_type": "code",
   "execution_count": 43,
   "id": "fd191ead",
   "metadata": {},
   "outputs": [],
   "source": [
    "!cc --coverage -o cgi_decode cgi_decode.c"
   ]
  },
  {
   "cell_type": "code",
   "execution_count": 44,
   "id": "8aeab000",
   "metadata": {},
   "outputs": [
    {
     "name": "stdout",
     "output_type": "stream",
     "text": [
      "Send mail to me@fuzzingbook.org\r\n"
     ]
    }
   ],
   "source": [
    "!./cgi_decode 'Send+mail+to+me%40fuzzingbook.org'"
   ]
  },
  {
   "cell_type": "code",
   "execution_count": 45,
   "id": "49e628d8",
   "metadata": {},
   "outputs": [
    {
     "name": "stdout",
     "output_type": "stream",
     "text": [
      "File 'cgi_decode.c'\r\n",
      "Lines executed:91.43% of 35\r\n",
      "Creating 'cgi_decode.c.gcov'\r\n",
      "\r\n",
      "Lines executed:91.43% of 35\r\n"
     ]
    }
   ],
   "source": [
    "!gcov cgi_decode.c"
   ]
  },
  {
   "cell_type": "code",
   "execution_count": 46,
   "id": "392e9d80",
   "metadata": {},
   "outputs": [
    {
     "name": "stdout",
     "output_type": "stream",
     "text": [
      "       32:   27:    while (*s != '\\0') {\n",
      "       31:   28:        if (*s == '+')\n",
      "        3:   29:            *t++ = ' ';\n",
      "       28:   30:        else if (*s == '%') {\n",
      "        1:   31:            int digit_high = *++s;\n",
      "        1:   32:            int digit_low = *++s;\n",
      "        1:   33:            if (hex_values[digit_high] >= 0 && hex_values[digit_low] >= 0) {\n",
      "        1:   34:                *t++ = hex_values[digit_high] * 16 + hex_values[digit_low];\n",
      "        -:   35:            }\n",
      "        -:   36:            else\n",
      "    #####:   37:                return -1;\n",
      "        -:   38:        }\n",
      "        -:   39:        else\n",
      "       27:   40:            *t++ = *s;\n",
      "       31:   41:        s++;\n",
      "        -:   42:    }\n",
      "        1:   43:    *t = '\\0';\n",
      "        1:   44:    return 0;\n",
      "        -:   45:}\n",
      "        -:   46:\n"
     ]
    }
   ],
   "source": [
    "lines = open('cgi_decode.c.gcov').readlines()\n",
    "for i in range(30, 50):\n",
    "    print(lines[i], end='')"
   ]
  },
  {
   "cell_type": "code",
   "execution_count": 47,
   "id": "3c45a9de",
   "metadata": {},
   "outputs": [],
   "source": [
    "def read_gcov_coverage(c_file):\n",
    "    gcov_file = c_file + \".gcov\"\n",
    "    coverage = set()\n",
    "    with open(gcov_file) as file:\n",
    "        for line in file.readlines():\n",
    "            elems = line.split(':')\n",
    "            covered = elems[0].strip()\n",
    "            line_number = int(elems[1].strip())\n",
    "            if covered.startswith('-') or covered.startswith('#'):\n",
    "                continue\n",
    "            coverage.add((c_file, line_number))\n",
    "    return coverage"
   ]
  },
  {
   "cell_type": "code",
   "execution_count": 48,
   "id": "453f2c38",
   "metadata": {},
   "outputs": [
    {
     "data": {
      "text/plain": [
       "[('cgi_decode.c', 55),\n",
       " ('cgi_decode.c', 52),\n",
       " ('cgi_decode.c', 12),\n",
       " ('cgi_decode.c', 15),\n",
       " ('cgi_decode.c', 24)]"
      ]
     },
     "execution_count": 48,
     "metadata": {},
     "output_type": "execute_result"
    }
   ],
   "source": [
    "coverage = read_gcov_coverage('cgi_decode.c')\n",
    "\n",
    "list(coverage)[:5]"
   ]
  },
  {
   "cell_type": "code",
   "execution_count": 49,
   "id": "c46f4a52",
   "metadata": {},
   "outputs": [
    {
     "name": "stderr",
     "output_type": "stream",
     "text": [
      "Traceback (most recent call last):\n",
      "  File \"/tmp/ipykernel_7011/3815711187.py\", line 7, in <module>\n",
      "    cgi_decode(s)\n",
      "  File \"/tmp/ipykernel_7011/1071239422.py\", line 22, in cgi_decode\n",
      "    digit_high, digit_low = s[i + 1], s[i + 2]\n",
      "IndexError: string index out of range (expected)\n"
     ]
    }
   ],
   "source": [
    "from ExpectError import ExpectError\n",
    "\n",
    "with ExpectError():\n",
    "    for i in range(trials):\n",
    "        try:\n",
    "            s = fuzzer()\n",
    "            cgi_decode(s)\n",
    "        except ValueError:\n",
    "            pass"
   ]
  },
  {
   "cell_type": "code",
   "execution_count": 50,
   "id": "197c6382",
   "metadata": {},
   "outputs": [
    {
     "data": {
      "text/plain": [
       "'82 202*&<1&($34\\'\"/\\'.<5/!8\"\\'5:!4))%;'"
      ]
     },
     "execution_count": 50,
     "metadata": {},
     "output_type": "execute_result"
    }
   ],
   "source": [
    "s"
   ]
  },
  {
   "cell_type": "code",
   "execution_count": 51,
   "id": "fbe3f5b5",
   "metadata": {},
   "outputs": [],
   "source": [
    "import os\n",
    "import glob\n",
    "\n",
    "for file in glob.glob(\"cgi_decode\") + glob.glob(\"cgi_decode.*\"):\n",
    "    os.remove(file)"
   ]
  },
  {
   "cell_type": "code",
   "execution_count": 52,
   "id": "e2467c9b",
   "metadata": {},
   "outputs": [
    {
     "ename": "IndexError",
     "evalue": "string index out of range",
     "output_type": "error",
     "traceback": [
      "\u001b[0;31m---------------------------------------------------------------------------\u001b[0m",
      "\u001b[0;31mIndexError\u001b[0m                                Traceback (most recent call last)",
      "\u001b[0;32m/tmp/ipykernel_7011/1110336140.py\u001b[0m in \u001b[0;36m<module>\u001b[0;34m\u001b[0m\n\u001b[0;32m----> 1\u001b[0;31m \u001b[0mcgi_decode\u001b[0m\u001b[0;34m(\u001b[0m\u001b[0;34m'asd%'\u001b[0m\u001b[0;34m)\u001b[0m\u001b[0;34m\u001b[0m\u001b[0;34m\u001b[0m\u001b[0m\n\u001b[0m\u001b[1;32m      2\u001b[0m \u001b[0mcgi_decode\u001b[0m\u001b[0;34m(\u001b[0m\u001b[0;34m'asd%1'\u001b[0m\u001b[0;34m)\u001b[0m\u001b[0;34m\u001b[0m\u001b[0;34m\u001b[0m\u001b[0m\n",
      "\u001b[0;32m/tmp/ipykernel_7011/1071239422.py\u001b[0m in \u001b[0;36mcgi_decode\u001b[0;34m(s)\u001b[0m\n\u001b[1;32m     20\u001b[0m             \u001b[0mt\u001b[0m \u001b[0;34m+=\u001b[0m \u001b[0;34m' '\u001b[0m\u001b[0;34m\u001b[0m\u001b[0;34m\u001b[0m\u001b[0m\n\u001b[1;32m     21\u001b[0m         \u001b[0;32melif\u001b[0m \u001b[0mc\u001b[0m \u001b[0;34m==\u001b[0m \u001b[0;34m'%'\u001b[0m\u001b[0;34m:\u001b[0m\u001b[0;34m\u001b[0m\u001b[0;34m\u001b[0m\u001b[0m\n\u001b[0;32m---> 22\u001b[0;31m             \u001b[0mdigit_high\u001b[0m\u001b[0;34m,\u001b[0m \u001b[0mdigit_low\u001b[0m \u001b[0;34m=\u001b[0m \u001b[0ms\u001b[0m\u001b[0;34m[\u001b[0m\u001b[0mi\u001b[0m \u001b[0;34m+\u001b[0m \u001b[0;36m1\u001b[0m\u001b[0;34m]\u001b[0m\u001b[0;34m,\u001b[0m \u001b[0ms\u001b[0m\u001b[0;34m[\u001b[0m\u001b[0mi\u001b[0m \u001b[0;34m+\u001b[0m \u001b[0;36m2\u001b[0m\u001b[0;34m]\u001b[0m\u001b[0;34m\u001b[0m\u001b[0;34m\u001b[0m\u001b[0m\n\u001b[0m\u001b[1;32m     23\u001b[0m             \u001b[0mi\u001b[0m \u001b[0;34m+=\u001b[0m \u001b[0;36m2\u001b[0m\u001b[0;34m\u001b[0m\u001b[0;34m\u001b[0m\u001b[0m\n\u001b[1;32m     24\u001b[0m             \u001b[0;32mif\u001b[0m \u001b[0mdigit_high\u001b[0m \u001b[0;32min\u001b[0m \u001b[0mhex_values\u001b[0m \u001b[0;32mand\u001b[0m \u001b[0mdigit_low\u001b[0m \u001b[0;32min\u001b[0m \u001b[0mhex_values\u001b[0m\u001b[0;34m:\u001b[0m\u001b[0;34m\u001b[0m\u001b[0;34m\u001b[0m\u001b[0m\n",
      "\u001b[0;31mIndexError\u001b[0m: string index out of range"
     ]
    }
   ],
   "source": [
    "cgi_decode('asd%')\n",
    "cgi_decode('asd%1')"
   ]
  },
  {
   "cell_type": "code",
   "execution_count": 53,
   "id": "e9b5bd36",
   "metadata": {},
   "outputs": [],
   "source": [
    "def cgi_decode(s: str) -> str:\n",
    "    \"\"\"Decode the CGI-encoded string `s`:\n",
    "       * replace '+' by ' '\n",
    "       * replace \"%xx\" by the character with hex number xx.\n",
    "       Return the decoded string.  Raise `ValueError` for invalid inputs.\"\"\"\n",
    "\n",
    "    # Mapping of hex digits to their integer values\n",
    "    hex_values = {\n",
    "        '0': 0, '1': 1, '2': 2, '3': 3, '4': 4,\n",
    "        '5': 5, '6': 6, '7': 7, '8': 8, '9': 9,\n",
    "        'a': 10, 'b': 11, 'c': 12, 'd': 13, 'e': 14, 'f': 15,\n",
    "        'A': 10, 'B': 11, 'C': 12, 'D': 13, 'E': 14, 'F': 15,\n",
    "    }\n",
    "\n",
    "    t = \"\"\n",
    "    i = 0\n",
    "    while i < len(s):\n",
    "        c = s[i]\n",
    "        if c == '+':\n",
    "            t += ' '\n",
    "        elif c == '%' and i < len(s) - 2:\n",
    "            digit_high, digit_low = s[i + 1], s[i + 2]\n",
    "            i += 2\n",
    "            if digit_high in hex_values and digit_low in hex_values:\n",
    "                v = hex_values[digit_high] * 16 + hex_values[digit_low]\n",
    "                t += chr(v)\n",
    "            else:\n",
    "                raise ValueError(\"Invalid encoding\")\n",
    "        else:\n",
    "            t += c\n",
    "        i += 1\n",
    "    return t"
   ]
  },
  {
   "cell_type": "code",
   "execution_count": 54,
   "id": "22d2a58a",
   "metadata": {},
   "outputs": [
    {
     "data": {
      "text/plain": [
       "'asd\"'"
      ]
     },
     "execution_count": 54,
     "metadata": {},
     "output_type": "execute_result"
    }
   ],
   "source": [
    "cgi_decode('asd%')\n",
    "cgi_decode('asd%1')\n",
    "cgi_decode('asd%22')"
   ]
  },
  {
   "cell_type": "code",
   "execution_count": 55,
   "id": "4941dac0",
   "metadata": {},
   "outputs": [],
   "source": [
    "runs = 100\n",
    "\n",
    "# Create an array with TRIALS elements, all zero\n",
    "sum_coverage = [0] * trials\n",
    "\n",
    "for run in range(runs):\n",
    "    all_coverage, coverage = population_coverage(hundred_inputs(), cgi_decode)\n",
    "    assert len(coverage) == trials\n",
    "    for i in range(trials):\n",
    "        sum_coverage[i] += coverage[i]\n",
    "\n",
    "average_coverage = []\n",
    "for i in range(trials):\n",
    "    average_coverage.append(sum_coverage[i] / runs)"
   ]
  },
  {
   "cell_type": "code",
   "execution_count": 56,
   "id": "13810a6e",
   "metadata": {},
   "outputs": [],
   "source": [
    "cgi_c_code = r\"\"\"\n",
    "/* CGI decoding as C program */\n",
    "\n",
    "#include <stdlib.h>\n",
    "#include <string.h>\n",
    "#include <stdio.h>\n",
    "\n",
    "\n",
    "int hex_values[256];\n",
    "\n",
    "void init_hex_values() {\n",
    "    for (int i = 0; i < sizeof(hex_values) / sizeof(int); i++) {\n",
    "        hex_values[i] = -1;\n",
    "    }\n",
    "    hex_values['0'] = 0; hex_values['1'] = 1; hex_values['2'] = 2; hex_values['3'] = 3;\n",
    "    hex_values['4'] = 4; hex_values['5'] = 5; hex_values['6'] = 6; hex_values['7'] = 7;\n",
    "    hex_values['8'] = 8; hex_values['9'] = 9;\n",
    "\n",
    "    hex_values['a'] = 10; hex_values['b'] = 11; hex_values['c'] = 12; hex_values['d'] = 13;\n",
    "    hex_values['e'] = 14; hex_values['f'] = 15;\n",
    "\n",
    "    hex_values['A'] = 10; hex_values['B'] = 11; hex_values['C'] = 12; hex_values['D'] = 13;\n",
    "    hex_values['E'] = 14; hex_values['F'] = 15;\n",
    "}\n",
    "\n",
    "int cgi_decode(char *s, char *t) {\n",
    "    unsigned int index = 0;\n",
    "    while (*s != '\\0') {\n",
    "        if (*s == '+')\n",
    "            *t++ = ' ';\n",
    "        else if (*s == '%' && index < strlen(s) - 2) {\n",
    "            int digit_high = *++s;\n",
    "            int digit_low = *++s;\n",
    "            if (hex_values[digit_high] >= 0 && hex_values[digit_low] >= 0) {\n",
    "                *t++ = hex_values[digit_high] * 16 + hex_values[digit_low];\n",
    "            }\n",
    "            else\n",
    "                return -1;\n",
    "        }\n",
    "        else\n",
    "            *t++ = *s;\n",
    "        s++;\n",
    "        index += 1;\n",
    "    }\n",
    "    *t = '\\0';\n",
    "    return 0;\n",
    "}\n",
    "\n",
    "int main(int argc, char *argv[]) {\n",
    "    init_hex_values();\n",
    "\n",
    "    if (argc >= 2) {\n",
    "        char *s = argv[1];\n",
    "        char *t = malloc(strlen(s) + 1); /* output is at most as long as input */\n",
    "        int ret = cgi_decode(s, t);\n",
    "        printf(\"%s\\n\", t);\n",
    "        return ret;\n",
    "    }\n",
    "    else\n",
    "    {\n",
    "        printf(\"cgi_decode: usage: cgi_decode STRING\\n\");\n",
    "        return 1;\n",
    "    }\n",
    "}\n",
    "\"\"\""
   ]
  },
  {
   "cell_type": "code",
   "execution_count": 57,
   "id": "4614e561",
   "metadata": {},
   "outputs": [
    {
     "name": "stdout",
     "output_type": "stream",
     "text": [
      "\u001b[37m/* CGI decoding as C program */\u001b[39;49;00m\u001b[37m\u001b[39;49;00m\n",
      "\u001b[37m\u001b[39;49;00m\n",
      "\u001b[36m#\u001b[39;49;00m\u001b[36minclude\u001b[39;49;00m\u001b[37m \u001b[39;49;00m\u001b[37m<stdlib.h>\u001b[39;49;00m\u001b[36m\u001b[39;49;00m\n",
      "\u001b[36m#\u001b[39;49;00m\u001b[36minclude\u001b[39;49;00m\u001b[37m \u001b[39;49;00m\u001b[37m<string.h>\u001b[39;49;00m\u001b[36m\u001b[39;49;00m\n",
      "\u001b[36m#\u001b[39;49;00m\u001b[36minclude\u001b[39;49;00m\u001b[37m \u001b[39;49;00m\u001b[37m<stdio.h>\u001b[39;49;00m\u001b[36m\u001b[39;49;00m\n",
      "\u001b[37m\u001b[39;49;00m\n",
      "\u001b[37m\u001b[39;49;00m\n",
      "\u001b[36mint\u001b[39;49;00m\u001b[37m \u001b[39;49;00mhex_values[\u001b[34m256\u001b[39;49;00m];\u001b[37m\u001b[39;49;00m\n",
      "\u001b[37m\u001b[39;49;00m\n",
      "\u001b[36mvoid\u001b[39;49;00m\u001b[37m \u001b[39;49;00m\u001b[32minit_hex_values\u001b[39;49;00m()\u001b[37m \u001b[39;49;00m{\u001b[37m\u001b[39;49;00m\n",
      "\u001b[37m    \u001b[39;49;00m\u001b[34mfor\u001b[39;49;00m\u001b[37m \u001b[39;49;00m(\u001b[36mint\u001b[39;49;00m\u001b[37m \u001b[39;49;00mi\u001b[37m \u001b[39;49;00m=\u001b[37m \u001b[39;49;00m\u001b[34m0\u001b[39;49;00m;\u001b[37m \u001b[39;49;00mi\u001b[37m \u001b[39;49;00m<\u001b[37m \u001b[39;49;00m\u001b[34msizeof\u001b[39;49;00m(hex_values)\u001b[37m \u001b[39;49;00m/\u001b[37m \u001b[39;49;00m\u001b[34msizeof\u001b[39;49;00m(\u001b[36mint\u001b[39;49;00m);\u001b[37m \u001b[39;49;00mi++)\u001b[37m \u001b[39;49;00m{\u001b[37m\u001b[39;49;00m\n",
      "\u001b[37m        \u001b[39;49;00mhex_values[i]\u001b[37m \u001b[39;49;00m=\u001b[37m \u001b[39;49;00m\u001b[34m-1\u001b[39;49;00m;\u001b[37m\u001b[39;49;00m\n",
      "\u001b[37m    \u001b[39;49;00m}\u001b[37m\u001b[39;49;00m\n",
      "\u001b[37m    \u001b[39;49;00mhex_values[\u001b[33m'\u001b[39;49;00m\u001b[33m0\u001b[39;49;00m\u001b[33m'\u001b[39;49;00m]\u001b[37m \u001b[39;49;00m=\u001b[37m \u001b[39;49;00m\u001b[34m0\u001b[39;49;00m;\u001b[37m \u001b[39;49;00mhex_values[\u001b[33m'\u001b[39;49;00m\u001b[33m1\u001b[39;49;00m\u001b[33m'\u001b[39;49;00m]\u001b[37m \u001b[39;49;00m=\u001b[37m \u001b[39;49;00m\u001b[34m1\u001b[39;49;00m;\u001b[37m \u001b[39;49;00mhex_values[\u001b[33m'\u001b[39;49;00m\u001b[33m2\u001b[39;49;00m\u001b[33m'\u001b[39;49;00m]\u001b[37m \u001b[39;49;00m=\u001b[37m \u001b[39;49;00m\u001b[34m2\u001b[39;49;00m;\u001b[37m \u001b[39;49;00mhex_values[\u001b[33m'\u001b[39;49;00m\u001b[33m3\u001b[39;49;00m\u001b[33m'\u001b[39;49;00m]\u001b[37m \u001b[39;49;00m=\u001b[37m \u001b[39;49;00m\u001b[34m3\u001b[39;49;00m;\u001b[37m\u001b[39;49;00m\n",
      "\u001b[37m    \u001b[39;49;00mhex_values[\u001b[33m'\u001b[39;49;00m\u001b[33m4\u001b[39;49;00m\u001b[33m'\u001b[39;49;00m]\u001b[37m \u001b[39;49;00m=\u001b[37m \u001b[39;49;00m\u001b[34m4\u001b[39;49;00m;\u001b[37m \u001b[39;49;00mhex_values[\u001b[33m'\u001b[39;49;00m\u001b[33m5\u001b[39;49;00m\u001b[33m'\u001b[39;49;00m]\u001b[37m \u001b[39;49;00m=\u001b[37m \u001b[39;49;00m\u001b[34m5\u001b[39;49;00m;\u001b[37m \u001b[39;49;00mhex_values[\u001b[33m'\u001b[39;49;00m\u001b[33m6\u001b[39;49;00m\u001b[33m'\u001b[39;49;00m]\u001b[37m \u001b[39;49;00m=\u001b[37m \u001b[39;49;00m\u001b[34m6\u001b[39;49;00m;\u001b[37m \u001b[39;49;00mhex_values[\u001b[33m'\u001b[39;49;00m\u001b[33m7\u001b[39;49;00m\u001b[33m'\u001b[39;49;00m]\u001b[37m \u001b[39;49;00m=\u001b[37m \u001b[39;49;00m\u001b[34m7\u001b[39;49;00m;\u001b[37m\u001b[39;49;00m\n",
      "\u001b[37m    \u001b[39;49;00mhex_values[\u001b[33m'\u001b[39;49;00m\u001b[33m8\u001b[39;49;00m\u001b[33m'\u001b[39;49;00m]\u001b[37m \u001b[39;49;00m=\u001b[37m \u001b[39;49;00m\u001b[34m8\u001b[39;49;00m;\u001b[37m \u001b[39;49;00mhex_values[\u001b[33m'\u001b[39;49;00m\u001b[33m9\u001b[39;49;00m\u001b[33m'\u001b[39;49;00m]\u001b[37m \u001b[39;49;00m=\u001b[37m \u001b[39;49;00m\u001b[34m9\u001b[39;49;00m;\u001b[37m\u001b[39;49;00m\n",
      "\u001b[37m\u001b[39;49;00m\n",
      "\u001b[37m    \u001b[39;49;00mhex_values[\u001b[33m'\u001b[39;49;00m\u001b[33ma\u001b[39;49;00m\u001b[33m'\u001b[39;49;00m]\u001b[37m \u001b[39;49;00m=\u001b[37m \u001b[39;49;00m\u001b[34m10\u001b[39;49;00m;\u001b[37m \u001b[39;49;00mhex_values[\u001b[33m'\u001b[39;49;00m\u001b[33mb\u001b[39;49;00m\u001b[33m'\u001b[39;49;00m]\u001b[37m \u001b[39;49;00m=\u001b[37m \u001b[39;49;00m\u001b[34m11\u001b[39;49;00m;\u001b[37m \u001b[39;49;00mhex_values[\u001b[33m'\u001b[39;49;00m\u001b[33mc\u001b[39;49;00m\u001b[33m'\u001b[39;49;00m]\u001b[37m \u001b[39;49;00m=\u001b[37m \u001b[39;49;00m\u001b[34m12\u001b[39;49;00m;\u001b[37m \u001b[39;49;00mhex_values[\u001b[33m'\u001b[39;49;00m\u001b[33md\u001b[39;49;00m\u001b[33m'\u001b[39;49;00m]\u001b[37m \u001b[39;49;00m=\u001b[37m \u001b[39;49;00m\u001b[34m13\u001b[39;49;00m;\u001b[37m\u001b[39;49;00m\n",
      "\u001b[37m    \u001b[39;49;00mhex_values[\u001b[33m'\u001b[39;49;00m\u001b[33me\u001b[39;49;00m\u001b[33m'\u001b[39;49;00m]\u001b[37m \u001b[39;49;00m=\u001b[37m \u001b[39;49;00m\u001b[34m14\u001b[39;49;00m;\u001b[37m \u001b[39;49;00mhex_values[\u001b[33m'\u001b[39;49;00m\u001b[33mf\u001b[39;49;00m\u001b[33m'\u001b[39;49;00m]\u001b[37m \u001b[39;49;00m=\u001b[37m \u001b[39;49;00m\u001b[34m15\u001b[39;49;00m;\u001b[37m\u001b[39;49;00m\n",
      "\u001b[37m\u001b[39;49;00m\n",
      "\u001b[37m    \u001b[39;49;00mhex_values[\u001b[33m'\u001b[39;49;00m\u001b[33mA\u001b[39;49;00m\u001b[33m'\u001b[39;49;00m]\u001b[37m \u001b[39;49;00m=\u001b[37m \u001b[39;49;00m\u001b[34m10\u001b[39;49;00m;\u001b[37m \u001b[39;49;00mhex_values[\u001b[33m'\u001b[39;49;00m\u001b[33mB\u001b[39;49;00m\u001b[33m'\u001b[39;49;00m]\u001b[37m \u001b[39;49;00m=\u001b[37m \u001b[39;49;00m\u001b[34m11\u001b[39;49;00m;\u001b[37m \u001b[39;49;00mhex_values[\u001b[33m'\u001b[39;49;00m\u001b[33mC\u001b[39;49;00m\u001b[33m'\u001b[39;49;00m]\u001b[37m \u001b[39;49;00m=\u001b[37m \u001b[39;49;00m\u001b[34m12\u001b[39;49;00m;\u001b[37m \u001b[39;49;00mhex_values[\u001b[33m'\u001b[39;49;00m\u001b[33mD\u001b[39;49;00m\u001b[33m'\u001b[39;49;00m]\u001b[37m \u001b[39;49;00m=\u001b[37m \u001b[39;49;00m\u001b[34m13\u001b[39;49;00m;\u001b[37m\u001b[39;49;00m\n",
      "\u001b[37m    \u001b[39;49;00mhex_values[\u001b[33m'\u001b[39;49;00m\u001b[33mE\u001b[39;49;00m\u001b[33m'\u001b[39;49;00m]\u001b[37m \u001b[39;49;00m=\u001b[37m \u001b[39;49;00m\u001b[34m14\u001b[39;49;00m;\u001b[37m \u001b[39;49;00mhex_values[\u001b[33m'\u001b[39;49;00m\u001b[33mF\u001b[39;49;00m\u001b[33m'\u001b[39;49;00m]\u001b[37m \u001b[39;49;00m=\u001b[37m \u001b[39;49;00m\u001b[34m15\u001b[39;49;00m;\u001b[37m\u001b[39;49;00m\n",
      "}\u001b[37m\u001b[39;49;00m\n",
      "\u001b[37m\u001b[39;49;00m\n",
      "\u001b[36mint\u001b[39;49;00m\u001b[37m \u001b[39;49;00m\u001b[32mcgi_decode\u001b[39;49;00m(\u001b[36mchar\u001b[39;49;00m\u001b[37m \u001b[39;49;00m*s,\u001b[37m \u001b[39;49;00m\u001b[36mchar\u001b[39;49;00m\u001b[37m \u001b[39;49;00m*t)\u001b[37m \u001b[39;49;00m{\u001b[37m\u001b[39;49;00m\n",
      "\u001b[37m    \u001b[39;49;00m\u001b[36munsigned\u001b[39;49;00m\u001b[37m \u001b[39;49;00m\u001b[36mint\u001b[39;49;00m\u001b[37m \u001b[39;49;00mindex\u001b[37m \u001b[39;49;00m=\u001b[37m \u001b[39;49;00m\u001b[34m0\u001b[39;49;00m;\u001b[37m\u001b[39;49;00m\n",
      "\u001b[37m    \u001b[39;49;00m\u001b[34mwhile\u001b[39;49;00m\u001b[37m \u001b[39;49;00m(*s\u001b[37m \u001b[39;49;00m!=\u001b[37m \u001b[39;49;00m\u001b[33m'\u001b[39;49;00m\u001b[33m\\0\u001b[39;49;00m\u001b[33m'\u001b[39;49;00m)\u001b[37m \u001b[39;49;00m{\u001b[37m\u001b[39;49;00m\n",
      "\u001b[37m        \u001b[39;49;00m\u001b[34mif\u001b[39;49;00m\u001b[37m \u001b[39;49;00m(*s\u001b[37m \u001b[39;49;00m==\u001b[37m \u001b[39;49;00m\u001b[33m'\u001b[39;49;00m\u001b[33m+\u001b[39;49;00m\u001b[33m'\u001b[39;49;00m)\u001b[37m\u001b[39;49;00m\n",
      "\u001b[37m            \u001b[39;49;00m*t++\u001b[37m \u001b[39;49;00m=\u001b[37m \u001b[39;49;00m\u001b[33m'\u001b[39;49;00m\u001b[33m \u001b[39;49;00m\u001b[33m'\u001b[39;49;00m;\u001b[37m\u001b[39;49;00m\n",
      "\u001b[37m        \u001b[39;49;00m\u001b[34melse\u001b[39;49;00m\u001b[37m \u001b[39;49;00m\u001b[34mif\u001b[39;49;00m\u001b[37m \u001b[39;49;00m(*s\u001b[37m \u001b[39;49;00m==\u001b[37m \u001b[39;49;00m\u001b[33m'\u001b[39;49;00m\u001b[33m%\u001b[39;49;00m\u001b[33m'\u001b[39;49;00m\u001b[37m \u001b[39;49;00m&&\u001b[37m \u001b[39;49;00mindex\u001b[37m \u001b[39;49;00m<\u001b[37m \u001b[39;49;00mstrlen(s)\u001b[37m \u001b[39;49;00m-\u001b[37m \u001b[39;49;00m\u001b[34m2\u001b[39;49;00m)\u001b[37m \u001b[39;49;00m{\u001b[37m\u001b[39;49;00m\n",
      "\u001b[37m            \u001b[39;49;00m\u001b[36mint\u001b[39;49;00m\u001b[37m \u001b[39;49;00mdigit_high\u001b[37m \u001b[39;49;00m=\u001b[37m \u001b[39;49;00m*++s;\u001b[37m\u001b[39;49;00m\n",
      "\u001b[37m            \u001b[39;49;00m\u001b[36mint\u001b[39;49;00m\u001b[37m \u001b[39;49;00mdigit_low\u001b[37m \u001b[39;49;00m=\u001b[37m \u001b[39;49;00m*++s;\u001b[37m\u001b[39;49;00m\n",
      "\u001b[37m            \u001b[39;49;00m\u001b[34mif\u001b[39;49;00m\u001b[37m \u001b[39;49;00m(hex_values[digit_high]\u001b[37m \u001b[39;49;00m>=\u001b[37m \u001b[39;49;00m\u001b[34m0\u001b[39;49;00m\u001b[37m \u001b[39;49;00m&&\u001b[37m \u001b[39;49;00mhex_values[digit_low]\u001b[37m \u001b[39;49;00m>=\u001b[37m \u001b[39;49;00m\u001b[34m0\u001b[39;49;00m)\u001b[37m \u001b[39;49;00m{\u001b[37m\u001b[39;49;00m\n",
      "\u001b[37m                \u001b[39;49;00m*t++\u001b[37m \u001b[39;49;00m=\u001b[37m \u001b[39;49;00mhex_values[digit_high]\u001b[37m \u001b[39;49;00m*\u001b[37m \u001b[39;49;00m\u001b[34m16\u001b[39;49;00m\u001b[37m \u001b[39;49;00m+\u001b[37m \u001b[39;49;00mhex_values[digit_low];\u001b[37m\u001b[39;49;00m\n",
      "\u001b[37m            \u001b[39;49;00m}\u001b[37m\u001b[39;49;00m\n",
      "\u001b[37m            \u001b[39;49;00m\u001b[34melse\u001b[39;49;00m\u001b[37m\u001b[39;49;00m\n",
      "\u001b[37m                \u001b[39;49;00m\u001b[34mreturn\u001b[39;49;00m\u001b[37m \u001b[39;49;00m\u001b[34m-1\u001b[39;49;00m;\u001b[37m\u001b[39;49;00m\n",
      "\u001b[37m        \u001b[39;49;00m}\u001b[37m\u001b[39;49;00m\n",
      "\u001b[37m        \u001b[39;49;00m\u001b[34melse\u001b[39;49;00m\u001b[37m\u001b[39;49;00m\n",
      "\u001b[37m            \u001b[39;49;00m*t++\u001b[37m \u001b[39;49;00m=\u001b[37m \u001b[39;49;00m*s;\u001b[37m\u001b[39;49;00m\n",
      "\u001b[37m        \u001b[39;49;00ms++;\u001b[37m\u001b[39;49;00m\n",
      "\u001b[37m        \u001b[39;49;00mindex\u001b[37m \u001b[39;49;00m+=\u001b[37m \u001b[39;49;00m\u001b[34m1\u001b[39;49;00m;\u001b[37m\u001b[39;49;00m\n",
      "\u001b[37m    \u001b[39;49;00m}\u001b[37m\u001b[39;49;00m\n",
      "\u001b[37m    \u001b[39;49;00m*t\u001b[37m \u001b[39;49;00m=\u001b[37m \u001b[39;49;00m\u001b[33m'\u001b[39;49;00m\u001b[33m\\0\u001b[39;49;00m\u001b[33m'\u001b[39;49;00m;\u001b[37m\u001b[39;49;00m\n",
      "\u001b[37m    \u001b[39;49;00m\u001b[34mreturn\u001b[39;49;00m\u001b[37m \u001b[39;49;00m\u001b[34m0\u001b[39;49;00m;\u001b[37m\u001b[39;49;00m\n",
      "}\u001b[37m\u001b[39;49;00m\n",
      "\u001b[37m\u001b[39;49;00m\n",
      "\u001b[36mint\u001b[39;49;00m\u001b[37m \u001b[39;49;00m\u001b[32mmain\u001b[39;49;00m(\u001b[36mint\u001b[39;49;00m\u001b[37m \u001b[39;49;00margc,\u001b[37m \u001b[39;49;00m\u001b[36mchar\u001b[39;49;00m\u001b[37m \u001b[39;49;00m*argv[])\u001b[37m \u001b[39;49;00m{\u001b[37m\u001b[39;49;00m\n",
      "\u001b[37m    \u001b[39;49;00minit_hex_values();\u001b[37m\u001b[39;49;00m\n",
      "\u001b[37m\u001b[39;49;00m\n",
      "\u001b[37m    \u001b[39;49;00m\u001b[34mif\u001b[39;49;00m\u001b[37m \u001b[39;49;00m(argc\u001b[37m \u001b[39;49;00m>=\u001b[37m \u001b[39;49;00m\u001b[34m2\u001b[39;49;00m)\u001b[37m \u001b[39;49;00m{\u001b[37m\u001b[39;49;00m\n",
      "\u001b[37m        \u001b[39;49;00m\u001b[36mchar\u001b[39;49;00m\u001b[37m \u001b[39;49;00m*s\u001b[37m \u001b[39;49;00m=\u001b[37m \u001b[39;49;00margv[\u001b[34m1\u001b[39;49;00m];\u001b[37m\u001b[39;49;00m\n",
      "\u001b[37m        \u001b[39;49;00m\u001b[36mchar\u001b[39;49;00m\u001b[37m \u001b[39;49;00m*t\u001b[37m \u001b[39;49;00m=\u001b[37m \u001b[39;49;00mmalloc(strlen(s)\u001b[37m \u001b[39;49;00m+\u001b[37m \u001b[39;49;00m\u001b[34m1\u001b[39;49;00m);\u001b[37m \u001b[39;49;00m\u001b[37m/* output is at most as long as input */\u001b[39;49;00m\u001b[37m\u001b[39;49;00m\n",
      "\u001b[37m        \u001b[39;49;00m\u001b[36mint\u001b[39;49;00m\u001b[37m \u001b[39;49;00mret\u001b[37m \u001b[39;49;00m=\u001b[37m \u001b[39;49;00mcgi_decode(s,\u001b[37m \u001b[39;49;00mt);\u001b[37m\u001b[39;49;00m\n",
      "\u001b[37m        \u001b[39;49;00mprintf(\u001b[33m\"\u001b[39;49;00m\u001b[33m%s\u001b[39;49;00m\u001b[33m\\n\u001b[39;49;00m\u001b[33m\"\u001b[39;49;00m,\u001b[37m \u001b[39;49;00mt);\u001b[37m\u001b[39;49;00m\n",
      "\u001b[37m        \u001b[39;49;00m\u001b[34mreturn\u001b[39;49;00m\u001b[37m \u001b[39;49;00mret;\u001b[37m\u001b[39;49;00m\n",
      "\u001b[37m    \u001b[39;49;00m}\u001b[37m\u001b[39;49;00m\n",
      "\u001b[37m    \u001b[39;49;00m\u001b[34melse\u001b[39;49;00m\u001b[37m\u001b[39;49;00m\n",
      "\u001b[37m    \u001b[39;49;00m{\u001b[37m\u001b[39;49;00m\n",
      "\u001b[37m        \u001b[39;49;00mprintf(\u001b[33m\"\u001b[39;49;00m\u001b[33mcgi_decode: usage: cgi_decode STRING\u001b[39;49;00m\u001b[33m\\n\u001b[39;49;00m\u001b[33m\"\u001b[39;49;00m);\u001b[37m\u001b[39;49;00m\n",
      "\u001b[37m        \u001b[39;49;00m\u001b[34mreturn\u001b[39;49;00m\u001b[37m \u001b[39;49;00m\u001b[34m1\u001b[39;49;00m;\u001b[37m\u001b[39;49;00m\n",
      "\u001b[37m    \u001b[39;49;00m}\u001b[37m\u001b[39;49;00m\n"
     ]
    },
    {
     "name": "stdout",
     "output_type": "stream",
     "text": [
      "}\u001b[37m\u001b[39;49;00ms;alfadkaj%259\n",
      "File 'cgi_decode.c'\n",
      "Lines executed:78.38% of 37\n",
      "Creating 'cgi_decode.c.gcov'\n",
      "\n",
      "Lines executed:78.38% of 37\n",
      "        1:   27:    unsigned int index = 0;\n",
      "       15:   28:    while (*s != '\\0') {\n",
      "       14:   29:        if (*s == '+')\n",
      "    #####:   30:            *t++ = ' ';\n",
      "      14*:   31:        else if (*s == '%' && index < strlen(s) - 2) {\n",
      "    #####:   32:            int digit_high = *++s;\n",
      "    #####:   33:            int digit_low = *++s;\n",
      "    #####:   34:            if (hex_values[digit_high] >= 0 && hex_values[digit_low] >= 0) {\n",
      "    #####:   35:                *t++ = hex_values[digit_high] * 16 + hex_values[digit_low];\n",
      "        -:   36:            }\n",
      "        -:   37:            else\n",
      "    #####:   38:                return -1;\n",
      "        -:   39:        }\n",
      "        -:   40:        else\n",
      "       14:   41:            *t++ = *s;\n",
      "       14:   42:        s++;\n",
      "       14:   43:        index += 1;\n",
      "        -:   44:    }\n",
      "        1:   45:    *t = '\\0';\n",
      "        1:   46:    return 0;\n"
     ]
    }
   ],
   "source": [
    "with open(\"cgi_decode.c\", \"w\") as f:\n",
    "    f.write(cgi_c_code)\n",
    "    \n",
    "print_file(\"cgi_decode.c\")\n",
    "!cc --coverage -o cgi_decode cgi_decode.c\n",
    "!./cgi_decode 's;alfadkaj%259'\n",
    "!gcov cgi_decode.c\n",
    "\n",
    "lines = open('cgi_decode.c.gcov').readlines()\n",
    "for i in range(30, 50):\n",
    "    print(lines[i], end='')\n",
    "    \n",
    "coverage = read_gcov_coverage('cgi_decode.c')\n",
    "for file in glob.glob(\"cgi_decode\") + glob.glob(\"cgi_decode.*\"):\n",
    "    os.remove(file)"
   ]
  },
  {
   "cell_type": "code",
   "execution_count": 58,
   "id": "f633db37",
   "metadata": {},
   "outputs": [
    {
     "data": {
      "text/plain": [
       "[('cgi_decode', 8),\n",
       " ('cgi_decode', 9),\n",
       " ('cgi_decode', 8),\n",
       " ('cgi_decode', 9),\n",
       " ('cgi_decode', 8)]"
      ]
     },
     "execution_count": 58,
     "metadata": {},
     "output_type": "execute_result"
    }
   ],
   "source": [
    "with Coverage() as cov:\n",
    "    cgi_decode(\"a+b\")\n",
    "trace = cov.trace()\n",
    "trace[:5]"
   ]
  },
  {
   "cell_type": "code",
   "execution_count": null,
   "id": "2896c0a0",
   "metadata": {},
   "outputs": [],
   "source": [
    "class BranchCoverage(Coverage):\n",
    "    \"\"\"Track branch coverage within a `with` block. Use as\n",
    "    ```\n",
    "    with Coverage() as cov:\n",
    "        function_to_be_traced()\n",
    "    c = cov.coverage()\n",
    "    ```\n",
    "    \"\"\"\n",
    "\n",
    "    \n",
    "    def branch_coverage(self, ) -> Set:\n",
    "        \n",
    "        return ..."
   ]
  },
  {
   "cell_type": "code",
   "execution_count": null,
   "id": "72fec49c",
   "metadata": {},
   "outputs": [],
   "source": []
  },
  {
   "cell_type": "code",
   "execution_count": null,
   "id": "3f32c7e7",
   "metadata": {},
   "outputs": [],
   "source": []
  },
  {
   "cell_type": "code",
   "execution_count": null,
   "id": "ca10e83a",
   "metadata": {},
   "outputs": [],
   "source": []
  },
  {
   "cell_type": "code",
   "execution_count": null,
   "id": "9306a5cb",
   "metadata": {},
   "outputs": [],
   "source": []
  },
  {
   "cell_type": "code",
   "execution_count": null,
   "id": "fd110c9e",
   "metadata": {},
   "outputs": [],
   "source": []
  },
  {
   "cell_type": "code",
   "execution_count": null,
   "id": "615554bc",
   "metadata": {},
   "outputs": [],
   "source": []
  },
  {
   "cell_type": "code",
   "execution_count": null,
   "id": "323d1b6c",
   "metadata": {},
   "outputs": [],
   "source": []
  }
 ],
 "metadata": {
  "kernelspec": {
   "display_name": "Python 3 (ipykernel)",
   "language": "python",
   "name": "python3"
  },
  "language_info": {
   "codemirror_mode": {
    "name": "ipython",
    "version": 3
   },
   "file_extension": ".py",
   "mimetype": "text/x-python",
   "name": "python",
   "nbconvert_exporter": "python",
   "pygments_lexer": "ipython3",
   "version": "3.10.6"
  }
 },
 "nbformat": 4,
 "nbformat_minor": 5
}
